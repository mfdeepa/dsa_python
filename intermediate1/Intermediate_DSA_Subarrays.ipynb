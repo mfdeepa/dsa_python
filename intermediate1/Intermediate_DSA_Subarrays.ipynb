{
  "nbformat": 4,
  "nbformat_minor": 0,
  "metadata": {
    "colab": {
      "provenance": [],
      "authorship_tag": "ABX9TyP5kT3Yfh+gUqKuQxUiLxhn",
      "include_colab_link": true
    },
    "kernelspec": {
      "name": "python3",
      "display_name": "Python 3"
    },
    "language_info": {
      "name": "python"
    }
  },
  "cells": [
    {
      "cell_type": "markdown",
      "metadata": {
        "id": "view-in-github",
        "colab_type": "text"
      },
      "source": [
        "<a href=\"https://colab.research.google.com/github/mfdeepa/dsa_python/blob/main/intermediate1/Intermediate_DSA_Subarrays.ipynb\" target=\"_parent\"><img src=\"https://colab.research.google.com/assets/colab-badge.svg\" alt=\"Open In Colab\"/></a>"
      ]
    },
    {
      "cell_type": "markdown",
      "source": [
        "Q 1:  Total Number of Subarrays\n",
        "Given an array of size 21, find the total number of subarrays of the array.\n",
        "\n",
        "ANS: 231 (n(n+1)/2)"
      ],
      "metadata": {
        "id": "EaBjD_7AzS42"
      }
    },
    {
      "cell_type": "markdown",
      "source": [
        "Q2. Time and Space Complexity - I\n",
        "What is the time and space complexity for printing the sum of each subarray?\n",
        "\n",
        "void printSums(int ar[]){\n",
        "\n",
        "int n = ar.length;\n",
        "\n",
        "for(int i = 0 ; i < n ; i++){\n",
        "\n",
        "int sum = 0;\n",
        "\n",
        "for(int j = i ; j < n ; j++){\n",
        "\n",
        "sum = sum + ar[j];\n",
        "\n",
        "print(sum)\n",
        "\n",
        "}\n",
        "\n",
        "}\n",
        "\n",
        "}\n",
        "\n",
        "\n",
        "ANS: TC = O(N^2) , SC = O(1)"
      ],
      "metadata": {
        "id": "9gBc19IOza6M"
      }
    },
    {
      "cell_type": "markdown",
      "source": [
        "Q 3: Time and Space Complexity - II\n",
        "Find the time and space complexity for printing sum of each subarray?\n",
        "\n",
        "void printSums(int ar[]){\n",
        "\n",
        "int n = ar.length;\n",
        "\n",
        "int pf[N];\n",
        "\n",
        "pf[0] = ar[0];\n",
        "\n",
        "for(int i = 1 ; i < n ; i++){\n",
        "\n",
        "pf[i] = pf[i - 1] + ar[i];\n",
        "\n",
        "}\n",
        "\n",
        "for(int i = 0 ; i < n ; i++){\n",
        "\n",
        "for(int j = i ; j < n ; j++){\n",
        "\n",
        "if(i == 0){\n",
        "\n",
        "print(pf[j]);\n",
        "\n",
        "}\n",
        "\n",
        "else{\n",
        "\n",
        "print(pf[j] - pf[i - 1]);\n",
        "\n",
        "}\n",
        "\n",
        "}\n",
        "\n",
        "}\n",
        "\n",
        "}\n",
        "\n",
        "\n",
        "ANS: TC = O(N^2) , SC = O(N)"
      ],
      "metadata": {
        "id": "4Khfpumu2UjO"
      }
    },
    {
      "cell_type": "markdown",
      "source": [
        "Q4. Subarray in given range\n",
        "Given an array A of length N, return the subarray from B to C.\n",
        "Problem Constraints\n",
        "1 <= N <= 105\n",
        "\n",
        "1 <= A[i] <= 109\n",
        "\n",
        "0 <= B <= C < N"
      ],
      "metadata": {
        "id": "l__oVN1h2nul"
      }
    },
    {
      "cell_type": "code",
      "source": [
        "class Solution:\n",
        "      def solve(self, A, B, C):\n",
        "        n = len(A)\n",
        "        res = []\n",
        "        for i in range(B,C+1):\n",
        "            res.append(A[i])\n",
        "        return res\n",
        "if __name__ == \"__main__\":\n",
        "  obj = Solution()\n",
        "  A = [4, 3, 2, 6]\n",
        "  B = 1\n",
        "  C = 3\n",
        "  res = obj.solve(A,B,C)"
      ],
      "metadata": {
        "id": "VqalUS_l2u5C"
      },
      "execution_count": null,
      "outputs": []
    },
    {
      "cell_type": "markdown",
      "source": [
        "Q5. Maximum Subarray Easy\n",
        "You are given an integer array C of size A. Now you need to find a subarray (contiguous elements) so that the sum of contiguous elements is maximum.\n",
        "But the sum must not exceed B.\n"
      ],
      "metadata": {
        "id": "oHI7Hh_56lfd"
      }
    },
    {
      "cell_type": "code",
      "source": [
        "class Solution:\n",
        "  def maxSubarray(self, A, B, C):\n",
        "        maximum = 0\n",
        "        addition = 0\n",
        "        start = 0\n",
        "        end = 0\n",
        "        if A <=1:\n",
        "            if C[0] < B:\n",
        "                return C[0]\n",
        "            else:\n",
        "                return 0\n",
        "\n",
        "        while end < A:\n",
        "            if addition == B:\n",
        "                return B\n",
        "            elif addition + C[end]<= B:\n",
        "                addition += C[end]\n",
        "                maximum = max(maximum, addition)\n",
        "                end +=1\n",
        "            else:\n",
        "                addition -= C[start]\n",
        "                start +=1\n",
        "        if maximum > B:\n",
        "            return 0\n",
        "        else:\n",
        "            return maximum\n",
        "if __name__ == \"__main__\":\n",
        "  obj = Solution()\n",
        "  A = 5\n",
        "  B = 12\n",
        "  C = [2, 1, 3, 4, 5]\n",
        "  res = obj.maxSubarray(A,B,C)\n",
        "  print(res)\n"
      ],
      "metadata": {
        "colab": {
          "base_uri": "https://localhost:8080/"
        },
        "id": "oUVGfCMY3n4H",
        "outputId": "2c3eb57b-3a08-4b10-f8ea-e26933005e3f"
      },
      "execution_count": null,
      "outputs": [
        {
          "output_type": "stream",
          "name": "stdout",
          "text": [
            "12\n"
          ]
        }
      ]
    },
    {
      "cell_type": "markdown",
      "source": [
        "Q6. Sum of All Subarrays\n",
        "You are given an integer array A of length N.\n",
        "You have to find the sum of all subarray sums of A.\n",
        "More formally, a subarray is defined as a contiguous part of an array which we can obtain by deleting zero or more elements from either end of the array.\n",
        "A subarray sum denotes the sum of all the elements of that subarray.\n",
        "\n",
        "Note : Be careful of integer overflow issues while calculations. Use appropriate datatypes.\n",
        "\n",
        "Explanation: The different subarrays for the given array are: [1], [2], [3], [1, 2], [2, 3], [1, 2, 3].\n",
        "Their sums are: 1 + 2 + 3 + 3 + 5 + 6 = 20"
      ],
      "metadata": {
        "id": "qSnJJ1vj4KbB"
      }
    },
    {
      "cell_type": "code",
      "source": [
        "class Solution:\n",
        "  def subarraySum(self, A):\n",
        "    n = len(A)\n",
        "    totalsum = 0\n",
        "    for i in range(n):\n",
        "        addition = (i+1) * (n-i)*A[i]\n",
        "        totalsum += addition\n",
        "    return totalsum\n",
        "if __name__ == \"__main__\":\n",
        "  obj = Solution()\n",
        "  A = [1, 2, 3]\n",
        "  res = obj.subarraySum(A)\n",
        "  print(res)"
      ],
      "metadata": {
        "colab": {
          "base_uri": "https://localhost:8080/"
        },
        "id": "Qlan1M3U4Xr6",
        "outputId": "3c86c09f-77b3-4536-a8b5-5c8968bf16fd"
      },
      "execution_count": null,
      "outputs": [
        {
          "output_type": "stream",
          "name": "stdout",
          "text": [
            "20\n"
          ]
        }
      ]
    },
    {
      "cell_type": "markdown",
      "source": [
        "Q 7:Generate all subarrays\n",
        "You are given an array A of N integers.\n",
        "Return a 2D array consisting of all the subarrays of the array\n",
        "\n",
        "Note : The order of the subarrays in the resulting 2D array does not matter.\n",
        "Explanation: All the subarrays of the array are returned. There are a total of 6 subarrays.\n",
        "[[1], [1, 2], [1, 2, 3], [2], [2, 3], [3]]"
      ],
      "metadata": {
        "id": "Jl5wddwZiign"
      }
    },
    {
      "cell_type": "code",
      "source": [
        "class Solution:\n",
        "  def solve(self, A):\n",
        "    n = len(A)\n",
        "    res = []\n",
        "    for i in range(n):\n",
        "        for j in range(i,n):\n",
        "            ls = A[i:j+1]\n",
        "            res.append(ls)\n",
        "    return res\n",
        "if __name__ == \"__main__\":\n",
        "  obj = Solution()\n",
        "  A = [1, 2, 3]\n",
        "  res = obj.solve(A)\n",
        "  print(res)\n",
        "\n",
        "# TC: O(N^2) AND SC= O(N^2)"
      ],
      "metadata": {
        "colab": {
          "base_uri": "https://localhost:8080/"
        },
        "id": "Y0a96rs8ihij",
        "outputId": "ccab5c20-96c5-4a07-dbf8-3aa2fbebbb5a"
      },
      "execution_count": null,
      "outputs": [
        {
          "output_type": "stream",
          "name": "stdout",
          "text": [
            "[[1], [1, 2], [1, 2, 3], [2], [2, 3], [3]]\n"
          ]
        }
      ]
    },
    {
      "cell_type": "code",
      "source": [],
      "metadata": {
        "id": "BaZkg6k8mmV2"
      },
      "execution_count": null,
      "outputs": []
    },
    {
      "cell_type": "markdown",
      "source": [
        "Q 8 :  Alternating Subarrays Easy\n",
        "Problem Description\n",
        "You are given an integer array A of length N comprising of 0's & 1's, and an integer B.\n",
        "\n",
        "You have to tell all the indices of array A that can act as a center of 2 * B + 1 length 0-1 alternating subarray.\n",
        "\n",
        "A 0-1 alternating array is an array containing only 0's & 1's, and having no adjacent 0's or 1's. For e.g. arrays [0, 1, 0, 1], [1, 0] and [1] are 0-1 alternating, while [1, 1] and [0, 1, 0, 0, 1] are not.\n",
        "\n",
        "input:  A = [1, 0, 1, 0, 1]\n",
        " B = 1\n",
        "\n",
        "Explanation:  Index 1 acts as a centre of alternating sequence: [A0, A1, A2]\n",
        " Index 2 acts as a centre of alternating sequence: [A1, A2, A3]\n",
        " Index 3 acts as a centre of alternating sequence: [A2, A3, A4]"
      ],
      "metadata": {
        "id": "Go4Aw59KmXLU"
      }
    },
    {
      "cell_type": "code",
      "source": [
        "class Solution:\n",
        "  def isAlternatingArray(self, arr, start, end):\n",
        "    toggle = arr[start]\n",
        "    for i in range(start + 1, end):\n",
        "        if toggle == arr[i]:\n",
        "            return False\n",
        "        toggle = arr[i]\n",
        "    return True\n",
        "\n",
        "  def solve(self, A, B):\n",
        "      lengthOfSubArray = 2 * B +1\n",
        "      maxStartPosition = len(A) - lengthOfSubArray + 1\n",
        "      result = []\n",
        "      for i in range(maxStartPosition):\n",
        "          # sending the i+lengthOfSubArray means that no need to reduce 1 in the end position\n",
        "          if self.isAlternatingArray(A, i, i+lengthOfSubArray):\n",
        "              result.append(i + lengthOfSubArray//2)\n",
        "      return result\n",
        "if __name__ == \"__main__\":\n",
        "  obj = Solution()\n",
        "  A = [1, 0, 1, 0, 1]\n",
        "  B = 1\n",
        "  res = obj.solve(A, B)\n",
        "  print(res)\n"
      ],
      "metadata": {
        "colab": {
          "base_uri": "https://localhost:8080/"
        },
        "id": "uD2_KxaJm8IH",
        "outputId": "b86b07be-bddc-4dea-f1f0-2be789f49c33"
      },
      "execution_count": null,
      "outputs": [
        {
          "output_type": "stream",
          "name": "stdout",
          "text": [
            "[1, 2, 3]\n"
          ]
        }
      ]
    },
    {
      "cell_type": "markdown",
      "source": [
        "Q 9: Good Subarrays Easy\n",
        "Given an array of integers A, a subarray of an array is said to be good if it fulfills any one of the criteria:\n",
        "1. Length of the subarray is be even, and the sum of all the elements of the subarray must be less than B.\n",
        "2. Length of the subarray is be odd, and the sum of all the elements of the subarray must be greater than B.\n",
        "Your task is to find the count of good subarrays in A.\n",
        "\n",
        "input:\n",
        "A = [1, 2, 3, 4, 5]\n",
        "B = 4\n",
        "\n",
        "Explanation: Even length good subarrays = {1, 2}\n",
        "Odd length good subarrays = {1, 2, 3}, {1, 2, 3, 4, 5}, {2, 3, 4}, {3, 4, 5}, {5}"
      ],
      "metadata": {
        "id": "cMMDYE8eoQ4-"
      }
    },
    {
      "cell_type": "code",
      "source": [
        "class Solution:\n",
        "  def solve(self, A, B):\n",
        "    n = len(A)\n",
        "    count = 0\n",
        "    for i in range(n):\n",
        "        addition = 0\n",
        "        for j in range(i,n):\n",
        "            addition += A[j]\n",
        "            length = j-i+1\n",
        "            if length % 2 ==0 and addition < B:\n",
        "                count += 1\n",
        "            elif length % 2 !=0 and addition > B:\n",
        "                count += 1\n",
        "    return count\n",
        "\n",
        "if __name__ == \"__main__\":\n",
        "  obj = Solution()\n",
        "  A = [1, 2, 3,4,5]\n",
        "  B = 4\n",
        "  res = obj.solve(A,B)\n",
        "  print(res)\n",
        "\n",
        "# TC = O(N^2) AND SC = O(1)"
      ],
      "metadata": {
        "colab": {
          "base_uri": "https://localhost:8080/"
        },
        "id": "WWj_d1lWohS5",
        "outputId": "141c1dc7-51c8-47d5-e15b-2d3e996b5c31"
      },
      "execution_count": null,
      "outputs": [
        {
          "output_type": "stream",
          "name": "stdout",
          "text": [
            "6\n"
          ]
        }
      ]
    },
    {
      "cell_type": "markdown",
      "source": [
        "Q 10: Counting Subarrays Easy\n",
        "Problem Description\n",
        "Given an array A of N non-negative numbers and a non-negative number B,\n",
        "you need to find the number of subarrays in A with a sum less than B.\n",
        "We may assume that there is no overflow.\n",
        "\n",
        "Input:\n",
        " A = [2, 5, 6]\n",
        " B = 10\n",
        "Explanation:  The subarrays with sum less than B are {2}, {5}, {6} and {2, 5},\n",
        "\n"
      ],
      "metadata": {
        "id": "BsUS44DJshG_"
      }
    },
    {
      "cell_type": "code",
      "source": [
        "class Solution:\n",
        "  def solve(self, A, B):\n",
        "        n = len(A)\n",
        "        count = 0\n",
        "        for i in range(n):\n",
        "            add = 0\n",
        "            for j in range(i,n):\n",
        "                add += A[j]\n",
        "                if add < B:\n",
        "                    count += 1\n",
        "                else:\n",
        "                    break\n",
        "        return count\n",
        "if __name__ == \"__main__\":\n",
        "  obj = Solution()\n",
        "  A = [2, 5, 6]\n",
        "  B = 10\n",
        "  res = obj.solve(A,B)\n",
        "  print(res)\n",
        "\n",
        "# TC = O(N^2) AND SC = O(1)"
      ],
      "metadata": {
        "colab": {
          "base_uri": "https://localhost:8080/"
        },
        "id": "gzemsCEjuAKc",
        "outputId": "15a40478-0e5b-4b92-a299-a0e76a997457"
      },
      "execution_count": null,
      "outputs": [
        {
          "output_type": "stream",
          "name": "stdout",
          "text": [
            "4\n"
          ]
        }
      ]
    },
    {
      "cell_type": "markdown",
      "source": [
        "  "
      ],
      "metadata": {
        "id": "GZqqxwSSs7d8"
      }
    }
  ]
}