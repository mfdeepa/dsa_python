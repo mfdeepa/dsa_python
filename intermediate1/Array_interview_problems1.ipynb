{
  "nbformat": 4,
  "nbformat_minor": 0,
  "metadata": {
    "colab": {
      "provenance": [],
      "authorship_tag": "ABX9TyO6OsocpGJrjCMUiLb+nJA0",
      "include_colab_link": true
    },
    "kernelspec": {
      "name": "python3",
      "display_name": "Python 3"
    },
    "language_info": {
      "name": "python"
    }
  },
  "cells": [
    {
      "cell_type": "markdown",
      "metadata": {
        "id": "view-in-github",
        "colab_type": "text"
      },
      "source": [
        "<a href=\"https://colab.research.google.com/github/mfdeepa/dsa_python/blob/main/intermediate1/Array_interview_problems1.ipynb\" target=\"_parent\"><img src=\"https://colab.research.google.com/assets/colab-badge.svg\" alt=\"Open In Colab\"/></a>"
      ]
    },
    {
      "cell_type": "markdown",
      "source": [
        "Q1. 100 People in a Circle\n",
        "One hundred people are standing in a circle in an order 1 to 100.\n",
        "\n",
        "No.1 has a sword. He kills the next person (i.e., no. 2) and gives the sword to the next (i.e., no. 3). All person does the same until only one survives.\n",
        "\n",
        "Which number survives at last?\n",
        "\n",
        "Answer is an integer. Just put the number without any decimal places if it's an integer. If the answer is Infinity, output Infinity.\n",
        "\n",
        "Feel free to get in touch with us if you have any questions"
      ],
      "metadata": {
        "id": "Cnvs9iGcAjYI"
      }
    },
    {
      "cell_type": "code",
      "source": [
        "class Solution:\n",
        "      def solve(self, A):\n",
        "        count = 0\n",
        "        while 2**count <= A:\n",
        "            count += 1\n",
        "        if 2**count > A:\n",
        "            count -= 1\n",
        "        balance = A - 2**count\n",
        "        winner = 1 + balance*2\n",
        "        return winner\n",
        "if __name__ == \"__main__\":\n",
        "  A = 100\n",
        "  obj = Solution()\n",
        "  res = obj.solve(A)\n",
        "  print(res)\n"
      ],
      "metadata": {
        "colab": {
          "base_uri": "https://localhost:8080/"
        },
        "id": "Dev5T2iAA-gd",
        "outputId": "10a9cb7d-975e-4a3d-99f3-f0ee7dbc214b"
      },
      "execution_count": null,
      "outputs": [
        {
          "output_type": "stream",
          "name": "stdout",
          "text": [
            "73\n"
          ]
        }
      ]
    },
    {
      "cell_type": "markdown",
      "source": [
        "Q 2:  Length of longest consecutive ones\n",
        "Given a binary string A. It is allowed to do at most one swap between any 0 and 1. Find and return the length of the longest consecutive 1’s that can be achieved.\n",
        "Input :\n",
        "    A = \"111000\"\n",
        "Output :\n",
        "    3"
      ],
      "metadata": {
        "id": "E-Lw-bLyDxhj"
      }
    },
    {
      "cell_type": "code",
      "source": [
        "class Solution:\n",
        "      def solve(self, A):\n",
        "        n = len(A)\n",
        "        count = 0\n",
        "        for i in range(n):\n",
        "            if A[i] == \"1\":\n",
        "                count += 1\n",
        "        if count == n: return n\n",
        "        if count == 0: return 0\n",
        "        ans = 0\n",
        "        for i in range(n):\n",
        "            left = 0\n",
        "            right = 0\n",
        "            for k in range(i-1,-1,-1):\n",
        "                if A[k] == '1':\n",
        "                    left += 1\n",
        "                else:  break\n",
        "            for k in range(i+1,n):\n",
        "                if A[k] == '1':\n",
        "                    right += 1\n",
        "                else:  break\n",
        "            if left == count:\n",
        "                ans = max(ans, left+right)\n",
        "            elif right == count:\n",
        "                ans = max(ans,left+right)\n",
        "            elif left+right < count:\n",
        "                ans = max(ans, left+right+1)\n",
        "            else:\n",
        "                ans = max(ans, left+right)\n",
        "        return ans\n",
        "if __name__ == \"__main__\":\n",
        "  obj = Solution()\n",
        "  A = '11110000100111000101110010111101'\n",
        "  res = obj.solve(A)\n",
        "  print(res)"
      ],
      "metadata": {
        "colab": {
          "base_uri": "https://localhost:8080/"
        },
        "id": "lNykGrYzEIiF",
        "outputId": "6956e4aa-245b-4e0a-cd9d-252e36905c65"
      },
      "execution_count": null,
      "outputs": [
        {
          "output_type": "stream",
          "name": "stdout",
          "text": [
            "6\n"
          ]
        }
      ]
    },
    {
      "cell_type": "markdown",
      "source": [
        "Q3. Count Increasing Triplets\n",
        "Problem Description\n",
        "You are given an array A of N elements. Find the number of triplets i,j and k such that i<j<k and A[i]<A[j]<A[k]\n",
        "input: A = [1, 2, 4, 3]\n",
        "The triplets that satisfy the conditions are [1, 2, 3] and [1, 2, 4]."
      ],
      "metadata": {
        "id": "2EKzbRtiLZDc"
      }
    },
    {
      "cell_type": "code",
      "source": [
        "class Solution:\n",
        "      def solve(self, A):\n",
        "        n = len(A)\n",
        "        count = 0\n",
        "        for i in range(n):\n",
        "            left,right = 0,0\n",
        "            for k in range(i-1,-1,-1):\n",
        "                if A[k] < A[i]:\n",
        "                    left += 1\n",
        "            for k in range(i+1,n):\n",
        "                if A[k] > A[i]:\n",
        "                    right += 1\n",
        "            count += left*right\n",
        "        return count\n",
        "if __name__ == \"__main__\":\n",
        "  obj = Solution()\n",
        "  A = [1, 2, 4, 3]\n",
        "  res = obj.solve(A)\n",
        "  print(res)"
      ],
      "metadata": {
        "colab": {
          "base_uri": "https://localhost:8080/"
        },
        "id": "PADqNXn9OYEd",
        "outputId": "09ef7b56-1a1e-4719-85f8-43aad5d68666"
      },
      "execution_count": null,
      "outputs": [
        {
          "output_type": "stream",
          "name": "stdout",
          "text": [
            "2\n"
          ]
        }
      ]
    },
    {
      "cell_type": "markdown",
      "source": [
        "Q 4: Josephus Problem - 2\n",
        "Problem Description\n",
        "There are A people standing in a circle. Person 1 kills their immediate clockwise neighbour and pass the knife to the next person standing in circle. This process continues till there is only 1 person remaining. Find the last person standing in the circle.\n",
        "\n",
        "explanation : Firstly, the person at position 2 is killed, then the person at position 4 is killed,\n",
        "then the person at position 3 is killed. So the person at position 1 survives.\n",
        "\n",
        "![image.png](data:image/png;base64,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)\n",
        "\n"
      ],
      "metadata": {
        "id": "Ni122-YzOt04"
      }
    },
    {
      "cell_type": "code",
      "source": [
        "class Solution:\n",
        "      def solve(self, A):\n",
        "        count = 0\n",
        "        while 2**count <= A:\n",
        "            count += 1\n",
        "        if 2**count > A:\n",
        "            count -= 1\n",
        "        balance = A - 2**count\n",
        "        winner = 1 + balance*2\n",
        "        return winner\n",
        "if __name__ == \"__main__\":\n",
        "  A = 4\n",
        "  obj = Solution()\n",
        "  res = obj.solve(A)\n",
        "  print(res)"
      ],
      "metadata": {
        "colab": {
          "base_uri": "https://localhost:8080/"
        },
        "id": "o_xaZCyFT_-s",
        "outputId": "ca9dbad5-6399-4dba-a7d8-e3a4aab06878"
      },
      "execution_count": null,
      "outputs": [
        {
          "output_type": "stream",
          "name": "stdout",
          "text": [
            "1\n"
          ]
        }
      ]
    },
    {
      "cell_type": "markdown",
      "source": [
        "Q 5: Maximum positivity\n",
        "Problem Description\n",
        "Given an array of integers A, of size N.\n",
        "\n",
        "Return the maximum size subarray of A having only non-negative elements. If there are more than one such subarray, return the one having the smallest starting index in A.\n",
        "\n",
        "NOTE: It is guaranteed that an answer always exists.\n",
        "A = [5, 6, -1, 7, 8]\n",
        "\n",
        "Explanation:  There are two subarrays of size 2 having only non-negative elements.\n",
        " 1. [5, 6]  starting point  = 0\n",
        " 2. [7, 8]  starting point  = 3\n",
        " As starting point of 1 is smaller, return [5, 6]"
      ],
      "metadata": {
        "id": "JhnE09yVXnVg"
      }
    },
    {
      "cell_type": "code",
      "source": [
        "class Solution:\n",
        "  def solve(self, A):\n",
        "    n = len(A)\n",
        "    max_length = 0\n",
        "    index = 0\n",
        "    temp_length = 0\n",
        "    i = 0\n",
        "    while i < n:\n",
        "        if A[i] >= 0:\n",
        "            temp_length += 1\n",
        "        else:\n",
        "            if temp_length > max_length:\n",
        "                max_length = temp_length\n",
        "                index = i - temp_length\n",
        "            temp_length = 0\n",
        "        i += 1\n",
        "    if temp_length > max_length:\n",
        "        max_length = temp_length\n",
        "        index = i - temp_length\n",
        "\n",
        "    return A[index: index+max_length]\n",
        "if __name__ == \"__main__\":\n",
        "  obj = Solution()\n",
        "  A = [5, 6, -1, 7, 8]\n",
        "  res = obj.solve(A)\n",
        "  print(res)\n"
      ],
      "metadata": {
        "colab": {
          "base_uri": "https://localhost:8080/"
        },
        "id": "-WVch6rwXxQS",
        "outputId": "ba545ff4-c081-4c6f-dc5a-7799d36cf67a"
      },
      "execution_count": null,
      "outputs": [
        {
          "output_type": "stream",
          "name": "stdout",
          "text": [
            "[5, 6]\n"
          ]
        }
      ]
    },
    {
      "cell_type": "markdown",
      "source": [
        "Q 6: Christmas Trees\n",
        "Problem Description\n",
        "You are given an array A consisting of heights of Christmas trees and an array B of the same size consisting of the cost of each of the trees (Bi is the cost of tree Ai, where 1 ≤ i ≤ size(A)), and you are supposed to choose 3 trees (let's say, indices p, q, and r), such that Ap < Aq < Ar, where p < q < r.\n",
        "The cost of these trees is Bp + Bq + Br.\n",
        "\n",
        "You are to choose 3 trees such that their total cost is minimum. Return that cost.\n",
        "\n",
        "If it is not possible to choose 3 such trees return -1.\n",
        " A = [1, 3, 5]\n",
        " B = [1, 2, 3]\n",
        "\n",
        "Explanation:  We can choose the trees with indices 1, 2 and 3, and the cost is 1 + 2 + 3 = 6."
      ],
      "metadata": {
        "id": "nDnq6rqboJjv"
      }
    },
    {
      "cell_type": "code",
      "source": [
        "class Solution:\n",
        "  def solve(self, A, B):\n",
        "    n = len(A)\n",
        "    ans = float('inf')\n",
        "    for i in range(n):\n",
        "        left = float('inf')\n",
        "        right = float('inf')\n",
        "        for k in range(i-1,-1,-1):\n",
        "            if A[k] < A[i]:\n",
        "                left = min(left,B[k])\n",
        "\n",
        "        for k in range(i+1,n):\n",
        "            if A[k] > A[i]:\n",
        "                right = min(right, B[k])\n",
        "\n",
        "        if left == float('inf') or right == float('inf'):\n",
        "            continue\n",
        "        price = left+right+ B[i]\n",
        "\n",
        "        ans = min(ans, price)\n",
        "    if ans == float('inf'):\n",
        "        return -1\n",
        "    return ans\n",
        "if __name__ == \"__main__\":\n",
        "  obj = Solution()\n",
        "  A = [1, 3, 5]\n",
        "  B = [1, 2, 3]\n",
        "  res= obj.solve(A,B)\n",
        "  print(res)"
      ],
      "metadata": {
        "colab": {
          "base_uri": "https://localhost:8080/"
        },
        "id": "bdRJ4w76ocK7",
        "outputId": "8c68d840-2b00-48b8-8642-95b000ee8412"
      },
      "execution_count": null,
      "outputs": [
        {
          "output_type": "stream",
          "name": "stdout",
          "text": [
            "6\n"
          ]
        }
      ]
    },
    {
      "cell_type": "markdown",
      "source": [
        "Q 7: Spider's Web\n",
        "A spider is trying to build a web for itself. The web built by it doubles every day.\n",
        "\n",
        "If the spider entirely built the web in 15 days, how many days did it take for the spider to build 25% of the web?\n",
        "\n",
        "Answer is an integer. Just put the number without any decimal places if it's an integer. If the answer is Infinity, output Infinity.\n",
        "\n",
        "Feel free to get in touch with us if you have any questions"
      ],
      "metadata": {
        "id": "L3BjHR4ANmeH"
      }
    },
    {
      "cell_type": "markdown",
      "source": [
        "Ans: If the spider’s web doubles in size every day,\n",
        "\n",
        "then on the day before the web is fully built, it would be half of the size of the fully built web.\n",
        "\n",
        "In other words, the spider would have completed 50% of the web on the 14th day.\n",
        "then only 1th will get doubled 100%\n",
        "\n",
        "so just before the day of 50% completion it will get halved that is 25% on 13th day"
      ],
      "metadata": {
        "id": "cz576V2DQNPU"
      }
    },
    {
      "cell_type": "markdown",
      "source": [
        "Q 8: Multiple left rotations of the array\n",
        "Problem Description\n",
        "Given an array of integers A and multiple values in B, which represents the number of times array A needs to be left rotated.\n",
        "\n",
        "Find the rotated array for each value and return the result in the from of a matrix where ith row represents the rotated array for the ith value in B.\n",
        "input:\n",
        " A = [1, 2, 3, 4, 5]\n",
        "    B = [2, 3]\n",
        "explanation:\n",
        "for input 1 -> B[0] = 2 which requires 2 times left rotations\n",
        "\n",
        "1: [2, 3, 4, 5, 1]\n",
        "\n",
        "2: [3, 4, 5, 1, 2]\n",
        "\n",
        "B[1] = 3 which requires 3 times left rotation\n",
        "\n",
        "1: [2, 3, 4, 5, 1]\n",
        "\n",
        "2: [3, 4, 5, 1, 2]\n",
        "\n",
        "2: [4, 5, 1, 2, 4]"
      ],
      "metadata": {
        "id": "z-KFcPXdOCAg"
      }
    },
    {
      "cell_type": "code",
      "source": [
        "class Solution:\n",
        "  def solve(self, A, B):\n",
        "    ans = []\n",
        "    for i in range(len(B)):\n",
        "        r = B[i]\n",
        "        c = [0]*len(A)\n",
        "        for j in range(len(A)):\n",
        "            c[j] = A[(r+j)%len(A)]\n",
        "        ans.append(c)\n",
        "    return ans\n",
        "if __name__ == \"__main__\":\n",
        "  obj = Solution()\n",
        "  A = [1, 2, 3, 4, 5]\n",
        "  B = [2, 3]\n",
        "  res= obj.solve(A,B)\n",
        "  print(res)"
      ],
      "metadata": {
        "colab": {
          "base_uri": "https://localhost:8080/"
        },
        "id": "4sjcozLEONWZ",
        "outputId": "8d8cc917-2d85-42f6-cff0-36228029b4d9"
      },
      "execution_count": null,
      "outputs": [
        {
          "output_type": "stream",
          "name": "stdout",
          "text": [
            "[[3, 4, 5, 1, 2], [4, 5, 1, 2, 3]]\n"
          ]
        }
      ]
    }
  ]
}