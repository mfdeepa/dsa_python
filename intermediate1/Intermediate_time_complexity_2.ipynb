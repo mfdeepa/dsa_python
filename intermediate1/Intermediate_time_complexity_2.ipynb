{
  "nbformat": 4,
  "nbformat_minor": 0,
  "metadata": {
    "colab": {
      "provenance": [],
      "authorship_tag": "ABX9TyN0ThJC42SQzwgnq+Y4M+6X",
      "include_colab_link": true
    },
    "kernelspec": {
      "name": "python3",
      "display_name": "Python 3"
    },
    "language_info": {
      "name": "python"
    }
  },
  "cells": [
    {
      "cell_type": "markdown",
      "metadata": {
        "id": "view-in-github",
        "colab_type": "text"
      },
      "source": [
        "<a href=\"https://colab.research.google.com/github/mfdeepa/dsa_python/blob/main/intermediate1/Intermediate_time_complexity_2.ipynb\" target=\"_parent\"><img src=\"https://colab.research.google.com/assets/colab-badge.svg\" alt=\"Open In Colab\"/></a>"
      ]
    },
    {
      "cell_type": "markdown",
      "source": [
        "While calculating the Big O then we should be in mmind\n",
        "\n",
        "1. calculate iteration based on input size.\n",
        "2. take higher order terms (neglect lower order )\n",
        "3. ignore constant coefficient\n",
        "\n",
        "note: as the input size if increasing , the % contribution of lower order ternms is negligiable.\n",
        "\n",
        "\n",
        "Note: when 'Big o' are same for two algo then we can not believe in the big o, that time, we have to calculate no. of iteration and check which algo is better.\n",
        "\n",
        "While writting the Big(O), we always consider the wrost case.\n",
        "\n",
        "\n",
        "Note:\n",
        "1. the space complexity is the extra space used by your function, the i/p size does not account for space complexity.\n",
        "2. At max, code will run 10^9 iteratioin thatr will include variable, operator and function call.\n",
        "3. Before writting the code, always find the iteration will not exceed this otherwise TLE will occur\n",
        "4. Alaways check constraints,  while calculating/ solving the question.\n",
        "5. log(ab) = log(a) + log(b)\n"
      ],
      "metadata": {
        "id": "ro9whJDVkUkz"
      }
    },
    {
      "cell_type": "markdown",
      "source": [
        "ASSIGNMENT QUESTION"
      ],
      "metadata": {
        "id": "nI2wfaZEnTHk"
      }
    },
    {
      "cell_type": "markdown",
      "source": [
        "Q1: count = 0\n",
        "    while N > 0:\n",
        "      count += 1\n",
        "      N = N//3\n",
        "\n",
        "Ans: Log(n)(base 3)"
      ],
      "metadata": {
        "id": "71YPmXfZnV3x"
      }
    },
    {
      "cell_type": "markdown",
      "source": [
        "Q2: def solve():\n",
        "      i = 1\n",
        "      while(i< n):\n",
        "        x = i\n",
        "        while (x>0):\n",
        "          x-= 1\n",
        "        i += 1\n",
        "  what is TC?\n",
        "\n",
        "Ans:O(n^2)"
      ],
      "metadata": {
        "id": "hr4A3Jm0ntAd"
      }
    },
    {
      "cell_type": "markdown",
      "source": [
        "Q3: what is TC?\n",
        "    for i in range(N):\n",
        "      for j in range(i,N):\n",
        "        break\n",
        "\n",
        "Ans: O(N)"
      ],
      "metadata": {
        "id": "G3cQM8ZJKq9u"
      }
    },
    {
      "cell_type": "markdown",
      "source": [
        "Q4 : a = 0\n",
        "    for i in range(N):\n",
        "      for j in range(N):\n",
        "        a = a + i + j\n",
        "\n",
        "Ans: O(N^2)"
      ],
      "metadata": {
        "id": "2IbbCk71LEuJ"
      }
    },
    {
      "cell_type": "markdown",
      "source": [
        "HOMEWORK QUESTION\n"
      ],
      "metadata": {
        "id": "EwrSARdmLVx2"
      }
    },
    {
      "cell_type": "markdown",
      "source": [
        "Q1 : what is TC\n",
        "    a = 0\n",
        "    b = 0\n",
        "    for i in range(N):\n",
        "      for j in range(N):\n",
        "        a = a+j\n",
        "    for k in range(N):\n",
        "      b = b + k\n",
        "\n",
        "Ans: O(N^2) and SC = o(1)"
      ],
      "metadata": {
        "id": "c2D5Vwl4LYzy"
      }
    },
    {
      "cell_type": "markdown",
      "source": [
        "Q2 : def solve(n):\n",
        "      for i in range(2**n):\n",
        "        j = i\n",
        "        while j > 0:\n",
        "          j -= 1\n",
        "\n",
        "Ans: O(2^n * 2^n) = 4^(n+n) = 4^n"
      ],
      "metadata": {
        "id": "SfblSkwvMG-J"
      }
    },
    {
      "cell_type": "markdown",
      "source": [
        "Q3: def function(n):\n",
        "      while (n> 0):\n",
        "        n += 1\n",
        "        n -= 2\n",
        "\n",
        "Ans: O(n)"
      ],
      "metadata": {
        "id": "un5911JrNz3j"
      }
    },
    {
      "cell_type": "markdown",
      "source": [
        "Q4: for i in range(n):\n",
        "      j = i-1\n",
        "      while (j >=0):\n",
        "        ans += i+j\n",
        "        j += 1\n",
        "\n",
        "Ans: code will run indefinitely\n",
        "Explanantion: outer loop will run till n but once inner loop will start, it will never ends as j always increase."
      ],
      "metadata": {
        "id": "syyKmyqnOaJt"
      }
    },
    {
      "cell_type": "markdown",
      "source": [
        "Q5: sum = 0\n",
        "    for i in range(N+1):\n",
        "      j =i\n",
        "      while j <= N && j > i:\n",
        "        j += 1\n",
        "\n",
        "\n",
        "Ans: O(n)\n",
        "Explanation: outer loop will run till n but inner loop will not run, b'coz j never be greater than i."
      ],
      "metadata": {
        "id": "9DIuARZvPJhn"
      }
    }
  ]
}