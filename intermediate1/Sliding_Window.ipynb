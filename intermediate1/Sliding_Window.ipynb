{
  "nbformat": 4,
  "nbformat_minor": 0,
  "metadata": {
    "colab": {
      "provenance": [],
      "authorship_tag": "ABX9TyOG5OguD3jZZFWjlBM+Ashh",
      "include_colab_link": true
    },
    "kernelspec": {
      "name": "python3",
      "display_name": "Python 3"
    },
    "language_info": {
      "name": "python"
    }
  },
  "cells": [
    {
      "cell_type": "markdown",
      "metadata": {
        "id": "view-in-github",
        "colab_type": "text"
      },
      "source": [
        "<a href=\"https://colab.research.google.com/github/mfdeepa/dsa_python/blob/main/intermediate1/Sliding_Window.ipynb\" target=\"_parent\"><img src=\"https://colab.research.google.com/assets/colab-badge.svg\" alt=\"Open In Colab\"/></a>"
      ]
    },
    {
      "cell_type": "markdown",
      "source": [
        "Q 1: Subarray with given sum and length\n",
        "Problem Description\n",
        "Given an array A of length N. Also given are integers B and C.\n",
        "\n",
        "Return 1 if there exists a subarray with length B having sum C and 0 otherwise\n",
        "input:\n",
        "A = [4, 3, 2, 6, 1]\n",
        "B = 3\n",
        "C = 11\n",
        "Explanation: The subarray [3, 2, 6] is of length 3 and sum 11."
      ],
      "metadata": {
        "id": "Yto84yhDMYzr"
      }
    },
    {
      "cell_type": "code",
      "source": [
        "class Solution:\n",
        "  def solve(self, A, B, C):\n",
        "    n = len(A)\n",
        "    add = 0\n",
        "    for i in range(B):\n",
        "        add += A[i]\n",
        "    if add == C:\n",
        "        return 1\n",
        "    start = 0\n",
        "    end = B\n",
        "    while end < n:\n",
        "        add -= A[start]\n",
        "        add += A[end]\n",
        "        if add == C:\n",
        "            return 1\n",
        "        start += 1\n",
        "        end += 1\n",
        "    return 0\n",
        "if __name__ == \"__main__\":\n",
        "  obj = Solution()\n",
        "  A = [4, 3, 2, 6, 1]\n",
        "  B = 3\n",
        "  C = 11\n",
        "  res = obj.solve(A,B,C)\n",
        "  print(res)"
      ],
      "metadata": {
        "colab": {
          "base_uri": "https://localhost:8080/"
        },
        "id": "mNgV_KjmMopA",
        "outputId": "a39b6a64-41ff-4f26-f42d-169507ecfcfa"
      },
      "execution_count": null,
      "outputs": [
        {
          "output_type": "stream",
          "name": "stdout",
          "text": [
            "1\n"
          ]
        }
      ]
    },
    {
      "cell_type": "code",
      "source": [
        "#another approach with for loop\n",
        "\n",
        "class Solution:\n",
        "  def solve(self, A, B, C):\n",
        "        n = len(A)\n",
        "        tempSum = 0\n",
        "        for i in range(0, B):\n",
        "            tempSum = tempSum + A[i]\n",
        "        if tempSum == C: return 1\n",
        "\n",
        "        for i in range(B, n):\n",
        "            tempSum = tempSum - A[i - B] + A[i]\n",
        "            if tempSum == C:\n",
        "                return 1\n",
        "        return 0\n",
        "if __name__ == \"__main__\":\n",
        "  obj = Solution()\n",
        "  A = [4, 3, 2, 6, 1]\n",
        "  B = 3\n",
        "  C = 11\n",
        "  res = obj.solve(A,B,C)\n",
        "  print(res)"
      ],
      "metadata": {
        "colab": {
          "base_uri": "https://localhost:8080/"
        },
        "id": "0TV77W8ROGZ8",
        "outputId": "8a1dbf3d-36a5-4bf8-c134-4791fcec93ce"
      },
      "execution_count": null,
      "outputs": [
        {
          "output_type": "stream",
          "name": "stdout",
          "text": [
            "1\n"
          ]
        }
      ]
    },
    {
      "cell_type": "markdown",
      "source": [
        "Q2. Minimum Swaps\n",
        "Problem Description\n",
        "\n",
        "Given an array of integers A and an integer B, find and return the minimum number of swaps required to bring all the numbers less than or equal to B together.\n",
        "\n",
        "Note: It is possible to swap any two elements, not necessarily consecutive.\n",
        "input:\n",
        " A = [1, 12, 10, 3, 14, 10, 5]\n",
        " B = 8\n",
        "  A = [1, 12, 10, 3, 14, 10, 5]\n",
        " After swapping  12 and 3, A => [1, 3, 10, 12, 14, 10, 5].\n",
        " After swapping  the first occurence of 10 and 5, A => [1, 3, 5, 12, 14, 10, 10].\n",
        " Now, all elements less than or equal to 8 are together."
      ],
      "metadata": {
        "id": "6hh6ASrlOVJB"
      }
    },
    {
      "cell_type": "code",
      "source": [
        "class Solution:\n",
        "      def solve(self, A, B):\n",
        "        n = len(A)\n",
        "        minimum = 0\n",
        "        for i in range(n):\n",
        "            if A[i] <= B:\n",
        "                minimum += 1\n",
        "        count = 0\n",
        "        for i in range(minimum):\n",
        "            if A[i] <= B:\n",
        "                count += 1\n",
        "        val = count\n",
        "\n",
        "        for i in range(minimum, n):\n",
        "            if A[i-minimum] <= B:\n",
        "                val -= 1\n",
        "            if A[i] <= B:\n",
        "                val += 1\n",
        "            count = max(count,val)\n",
        "        return minimum - count\n",
        "if __name__ == \"__main__\":\n",
        "  obj = Solution()\n",
        "  A = [1, 12, 10, 3, 14, 10, 5]\n",
        "  B = 8\n",
        "  res = obj.solve(A,B)\n",
        "  print(res)"
      ],
      "metadata": {
        "colab": {
          "base_uri": "https://localhost:8080/"
        },
        "id": "O84qBFgOOgPJ",
        "outputId": "d460d350-1585-4f98-930a-941c9eeb385f"
      },
      "execution_count": null,
      "outputs": [
        {
          "output_type": "stream",
          "name": "stdout",
          "text": [
            "2\n"
          ]
        }
      ]
    },
    {
      "cell_type": "markdown",
      "source": [
        "Q3. Spiral Order Matrix II\n",
        "Problem Description\n",
        "Given an integer A, generate a square matrix filled with elements from 1 to A2 in spiral order and return the generated square matrix.\n",
        "input = 2\n",
        "explanation: 1 --> 2\n",
        "      |\n",
        "      |\n",
        "4<--- 3"
      ],
      "metadata": {
        "id": "M6Lud2WmRz6J"
      }
    },
    {
      "cell_type": "code",
      "source": [
        "class Solution:\n",
        "  def emptyMatrix(self,A):\n",
        "    arr = []\n",
        "    for i in range(A):\n",
        "        ls = []\n",
        "        for j in range(A):\n",
        "            ls.append(0)\n",
        "        arr.append(ls)\n",
        "    return arr\n",
        "\n",
        "  def generateMatrix(self, A):\n",
        "      arr = self.emptyMatrix(A)\n",
        "      number = 1\n",
        "      i = 0\n",
        "      j = 0\n",
        "      n = A\n",
        "      if A == 1:\n",
        "          arr[i][j] = 1\n",
        "          return arr\n",
        "      while n >=0:\n",
        "          for k in range(1,n):\n",
        "              arr[i][j] = number\n",
        "              j+= 1\n",
        "              number += 1\n",
        "          for k in range(1,n):\n",
        "              arr[i][j] = number\n",
        "              i +=1\n",
        "              number += 1\n",
        "          for k in range(1,n):\n",
        "              arr[i][j] = number\n",
        "              j -= 1\n",
        "              number += 1\n",
        "          for k in range(1,n):\n",
        "              arr[i][j] = number\n",
        "              i -= 1\n",
        "              number += 1\n",
        "\n",
        "          if n == 1:\n",
        "              arr[i][j] = number\n",
        "\n",
        "          i += 1\n",
        "          j += 1\n",
        "          n -= 2\n",
        "      return arr\n",
        "if __name__ == \"__main__\":\n",
        "  obj = Solution()\n",
        "  A = 5\n",
        "  res = obj.generateMatrix(A)\n",
        "  print(res)"
      ],
      "metadata": {
        "colab": {
          "base_uri": "https://localhost:8080/"
        },
        "id": "TRbmng5iSBrJ",
        "outputId": "85cacd4a-6989-47ce-8d89-909573810fd1"
      },
      "execution_count": null,
      "outputs": [
        {
          "output_type": "stream",
          "name": "stdout",
          "text": [
            "[[1, 2, 3, 4, 5], [16, 17, 18, 19, 6], [15, 24, 25, 20, 7], [14, 23, 22, 21, 8], [13, 12, 11, 10, 9]]\n"
          ]
        }
      ]
    },
    {
      "cell_type": "markdown",
      "source": [
        "Q 4: Subarray with least average\n",
        "  Given an array A of size N, find the subarray of size B with the least average\n",
        "  input:\n",
        "  A = [3, 7, 90, 20, 10, 50, 40]\n",
        "B = 3\n",
        "Explanation: Subarray between indexes 3 and 5\n",
        "The subarray {20, 10, 50} has the least average\n",
        "among all subarrays of size 3."
      ],
      "metadata": {
        "id": "e3uuKpoTXYPI"
      }
    },
    {
      "cell_type": "code",
      "source": [
        "class Solution:\n",
        "      def solve(self, A, B):\n",
        "        n = len(A)\n",
        "        add = 0\n",
        "        for i in range(B):\n",
        "            add += A[i]\n",
        "        min_avg = add/B\n",
        "        min_avg_index = 0\n",
        "\n",
        "        for i in range(B, n):\n",
        "            add = add + A[i] - A[i-B]\n",
        "            avg = add/B\n",
        "            if avg < min_avg:\n",
        "                min_avg = avg\n",
        "                min_avg_index = i-B+1\n",
        "        return min_avg_index\n",
        "if __name__ == \"__main__\":\n",
        "  obj = Solution()\n",
        "  A = [3, 7, 90, 20, 10, 50, 40]\n",
        "  B = 3\n",
        "  res = obj.solve(A,B)\n",
        "  print(res)"
      ],
      "metadata": {
        "colab": {
          "base_uri": "https://localhost:8080/"
        },
        "id": "Xi6CFc20XmG1",
        "outputId": "5b4f224d-f543-470a-8940-d9380bb7b9f7"
      },
      "execution_count": null,
      "outputs": [
        {
          "output_type": "stream",
          "name": "stdout",
          "text": [
            "3\n"
          ]
        }
      ]
    },
    {
      "cell_type": "markdown",
      "source": [
        "**CLASS NOTES **\n"
      ],
      "metadata": {
        "id": "A0Yj3mAx6u1t"
      }
    },
    {
      "cell_type": "markdown",
      "source": [
        "Q 1: given A mat[N][N]. print the boundary elements in clockwise direction.\n",
        "A = [[1,2,3,4,5],[6,7,8,9,10],[11,12,13,14,15],[[16,17,18,19,20],[21,22,23,24,25]]"
      ],
      "metadata": {
        "id": "RDVphj1o7Cj3"
      }
    },
    {
      "cell_type": "code",
      "source": [
        "class Solution:\n",
        "  def print_Boundary(self,A):\n",
        "    n = len(A)\n",
        "    #for left to right\n",
        "    i, j =0,0\n",
        "    for k in range(1,n):\n",
        "      print(A[i][j], end = \" \")\n",
        "      j += 1\n",
        "    for k in range(1,n):\n",
        "      print(A[i][j], end = \" \")\n",
        "      i += 1\n",
        "    for k in range(1,n):\n",
        "      print(A[i][j], end = \" \")\n",
        "      j -= 1\n",
        "    for k in range(1,n):\n",
        "      print(A[i][j], end = \" \")\n",
        "      i -= 1\n",
        "if __name__ == \"__main__\":\n",
        "  obj = Solution()\n",
        "  A = [[1,2,3,4,5],[6,7,8,9,10],[11,12,13,14,15],[16,17,18,19,20],[21,22,23,24,25]]\n",
        "  res = obj.print_Boundary(A)\n",
        "  print(res)\n",
        "\n",
        "# output is showing none b'coz function is not returning anything."
      ],
      "metadata": {
        "colab": {
          "base_uri": "https://localhost:8080/"
        },
        "id": "J_u2AZ4E7fEg",
        "outputId": "c32b1bba-3407-4cac-d3c8-21a39da00ffb"
      },
      "execution_count": null,
      "outputs": [
        {
          "output_type": "stream",
          "name": "stdout",
          "text": [
            "1 2 3 4 5 10 15 20 25 24 23 22 21 16 11 6 None\n"
          ]
        }
      ]
    },
    {
      "cell_type": "markdown",
      "source": [
        "Q2: Spiral Printing\n",
        "given A mat[N][N]. print sprial in clockwise direction.\n",
        "A = [[1,2,3,4,5],[6,7,8,9,10],[11,12,13,14,15],[[16,17,18,19,20],[21,22,23,24,25]]\n",
        "explanation:\n",
        "1 2 3 4 5 10 15 20 25 24 23 22 21 16 11 6 7 8 9 14 19 18 17 12 13"
      ],
      "metadata": {
        "id": "j0ToIoTV-FFb"
      }
    },
    {
      "cell_type": "code",
      "source": [
        "class Solution:\n",
        "  def spiral_Printing(self,A):\n",
        "    n = len(A)\n",
        "    i,j =0,0\n",
        "    while n > 1:\n",
        "      for k in range(1,n):\n",
        "        print(A[i][j], end = \" \")\n",
        "        j += 1\n",
        "      for k in range(1,n):\n",
        "        print(A[i][j], end = \" \")\n",
        "        i += 1\n",
        "      for k in range(1,n):\n",
        "        print(A[i][j], end = \" \")\n",
        "        j -= 1\n",
        "      for k in range(1,n):\n",
        "        print(A[i][j], end = \" \")\n",
        "        i -= 1\n",
        "      i += 1\n",
        "      j += 1\n",
        "      n -= 2\n",
        "    if n == 1:\n",
        "      print(A[i][j])\n",
        "if __name__ == \"__main__\":\n",
        "  obj = Solution()\n",
        "  A = [[1,2,3,4,5],[6,7,8,9,10],[11,12,13,14,15],[16,17,18,19,20],[21,22,23,24,25]]\n",
        "  res = obj.spiral_Printing(A)\n",
        "  print(res)\n"
      ],
      "metadata": {
        "colab": {
          "base_uri": "https://localhost:8080/"
        },
        "id": "H28r3z7n-6XV",
        "outputId": "8476b878-9dc7-4d24-87ce-069afda27eb7"
      },
      "execution_count": null,
      "outputs": [
        {
          "output_type": "stream",
          "name": "stdout",
          "text": [
            "1 2 3 4 5 10 15 20 25 24 23 22 21 16 11 6 7 8 9 14 19 18 17 12 13\n",
            "None\n"
          ]
        }
      ]
    },
    {
      "cell_type": "markdown",
      "source": [],
      "metadata": {
        "id": "Ax2NMpGx_6ea"
      }
    }
  ]
}