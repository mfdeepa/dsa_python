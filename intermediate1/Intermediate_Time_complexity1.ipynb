{
  "nbformat": 4,
  "nbformat_minor": 0,
  "metadata": {
    "colab": {
      "provenance": [],
      "authorship_tag": "ABX9TyOhGqa/TjKQeVBP0SaSKhkR",
      "include_colab_link": true
    },
    "kernelspec": {
      "name": "python3",
      "display_name": "Python 3"
    },
    "language_info": {
      "name": "python"
    }
  },
  "cells": [
    {
      "cell_type": "markdown",
      "metadata": {
        "id": "view-in-github",
        "colab_type": "text"
      },
      "source": [
        "<a href=\"https://colab.research.google.com/github/mfdeepa/dsa_python/blob/main/intermediate1/Intermediate_Time_complexity1.ipynb\" target=\"_parent\"><img src=\"https://colab.research.google.com/assets/colab-badge.svg\" alt=\"Open In Colab\"/></a>"
      ]
    },
    {
      "cell_type": "code",
      "execution_count": null,
      "metadata": {
        "id": "rUgoNIjZPbI5"
      },
      "outputs": [],
      "source": []
    },
    {
      "cell_type": "markdown",
      "source": [
        "class notes\n"
      ],
      "metadata": {
        "id": "TuKnND3nPiYK"
      }
    },
    {
      "cell_type": "markdown",
      "source": [
        "Q how many times should i divide N to get 1?\n",
        "\n",
        "Ans : log(N)"
      ],
      "metadata": {
        "id": "fEFky9PgPpek"
      }
    },
    {
      "cell_type": "markdown",
      "source": [
        "Q2 : how many number are included in range(3,10)? both included\n",
        "\n",
        "Ans: 10-3+1 = 8 : formula (B-A+1)\n",
        "Explanation : [3,4,5,6,7,8,9,10] total is 8\n",
        "\n"
      ],
      "metadata": {
        "id": "aNtp2JsYPyQ9"
      }
    },
    {
      "cell_type": "markdown",
      "source": [
        "Q3: Find the sum of n natural number?\n",
        "\n",
        "Ans: n(2a + (n-1)d)/2\n",
        "here a is first term and d is common difference\n"
      ],
      "metadata": {
        "id": "r5c0VOdVQOEq"
      }
    },
    {
      "cell_type": "markdown",
      "source": [
        "Q4:  find sum of first n terms of GP?\n",
        "\n",
        "Ans: (a(1-r**n))/(1-r)"
      ],
      "metadata": {
        "id": "USSo6HtqQpSP"
      }
    },
    {
      "cell_type": "markdown",
      "source": [
        "Q 5 : def myfun(N)\n",
        "        s = 0, i =1\n",
        "        while (i<=N):\n",
        "          s = s+i\n",
        "          i = i+2\n",
        "      what is time complexity of this?\n",
        "\n",
        "Ans : if n is even then TC is n/2 and if n is odd then TC would be (n+1)/2.\n",
        "Explanation: let N = 10, i = 1,3,5,7,9 = 5 (N/2) and\n",
        "N = 13, i = 1,3,5,9,11,13 = 6(N+1/2)."
      ],
      "metadata": {
        "id": "q4_CHxn1Uk3Y"
      }
    },
    {
      "cell_type": "markdown",
      "source": [
        "Q6: def myfun(N):\n",
        "      s = 0\n",
        "      for i in range(0,101):\n",
        "        s = s+i+i**2\n",
        "      return s\n",
        "  What is the TC of this?\n",
        "\n",
        "Ans: 101 (b-a+1) i.e 100-0+1= 101 (last digit never count, while running a loop)"
      ],
      "metadata": {
        "id": "IB_Hd3tjVVjY"
      }
    },
    {
      "cell_type": "markdown",
      "source": [
        "Q7: def fun(N):\n",
        "      i = 1\n",
        "      while(i*i <=N):\n",
        "        s = s+1\n",
        "        i = i+1\n",
        "    what is TC of this?\n",
        "Ans : sqrt N"
      ],
      "metadata": {
        "id": "H02JHqRgV8_g"
      }
    },
    {
      "cell_type": "markdown",
      "source": [
        "Q 8 : def fun(N)\n",
        "      i = N\n",
        "      while (i > 1):\n",
        "        i = i/2\n",
        "    what is the TC?\n",
        "\n",
        "Ans: Log(N)\n",
        "\n",
        "Explanation: i = N, N/2, N/2^2, N/2^3, N/2^4.....1\n",
        "at kth time, it reaches to 1\n",
        "k = N/2^k = 1\n",
        "\n",
        "by log expression its turn out : 2^k = N\n",
        "base 2 log(N) =K = 1\n"
      ],
      "metadata": {
        "id": "NMumZmzpWU3R"
      }
    },
    {
      "cell_type": "markdown",
      "source": [
        "Q9: def fun(N):\n",
        "      s = 0, i = 0\n",
        "      while (i<=N):\n",
        "        i = i*2\n",
        "        s = s*i\n",
        "    What is TC?\n",
        "\n",
        "Ans: it will run infinite times, bcoz its i is not updating decreament.\n"
      ],
      "metadata": {
        "id": "54Lxhh8fYEFs"
      }
    },
    {
      "cell_type": "markdown",
      "source": [
        "Q 10: def fun(N):\n",
        "        s =0, i = 1\n",
        "        while(i<N):\n",
        "          s = s+i\n",
        "          i = i*2\n",
        "    what is TC?\n",
        "\n",
        "Ans: log(N)\n",
        "Explanation: every time i is increasing 2 times so 2^k = N\n"
      ],
      "metadata": {
        "id": "DlPsyTMmY0Eg"
      }
    },
    {
      "cell_type": "markdown",
      "source": [
        "Q:11 def fun(N):\n",
        "      for i in range(1,11):\n",
        "        for j in range(1, N+1):\n",
        "          print(i,j)\n",
        "  what is TC?\n",
        "\n",
        "Ans: N^2\n",
        "Explanation: inner loop will go till n and the outer loop will also go to the N so N*N  \n"
      ],
      "metadata": {
        "id": "EKqoMv5hZW2e"
      }
    },
    {
      "cell_type": "markdown",
      "source": [
        "Q 12: def fun(N):\n",
        "        for i in range(1, N+1):\n",
        "          for j in range(1, N+1):\n",
        "            print(i,j)\n",
        "  what is TC?\n",
        "\n",
        "Ans: N^2\n",
        "Explanation: inner loop will go till n and the outer loop will also go to the N so N*N"
      ],
      "metadata": {
        "id": "7bqUWYwJZ3Tz"
      }
    },
    {
      "cell_type": "markdown",
      "source": [
        "Q13: def fun(N):\n",
        "      for i in range(0, N):\n",
        "        for j in range(0, i+1):\n",
        "          print(i,j)\n",
        "    what is TC?\n",
        "\n",
        "Ans: N(N+1)/2\n",
        "Explanation: code will run 1,2,3,4,5,6,....N so sum of N natural num is n(n+1)/2."
      ],
      "metadata": {
        "id": "NTKDzR1paQoZ"
      }
    },
    {
      "cell_type": "markdown",
      "source": [
        "Q14: def fun(N):\n",
        "      for i in range(1, N+1):\n",
        "        j = 1\n",
        "        while (j <N):\n",
        "          print(i*j)\n",
        "          j = j*2\n",
        "  What is TC?\n",
        "\n",
        "Ans: N log(N)\n",
        "Explanation: outer loop will got to the N times and inner loop will run till log(N) times. so total would be nlog(n).\n"
      ],
      "metadata": {
        "id": "mloZPSlkaxkd"
      }
    },
    {
      "cell_type": "markdown",
      "source": [
        "Q15: def fun(N):\n",
        "      for i in range(1, 2**N +1):\n",
        "        print(i)\n",
        "  what is TC?\n",
        "\n",
        "Ans: 2^n iteration\n",
        "Explanation: i will go in range(1, 2^n) so b-a+1 = 2^n-1+1 = 2^n"
      ],
      "metadata": {
        "id": "2O1C8JtSbXnr"
      }
    },
    {
      "cell_type": "markdown",
      "source": [
        "Q16: def fun(N):\n",
        "      for i in range(1, n+1):\n",
        "        for j in range(1,2^i+1):\n",
        "          print(i*j)\n",
        "What is TC?\n",
        "\n",
        "Ans: 2(2^n-1)\n",
        "explanation: outer loop will go till n and the inner loop will go till n.\n",
        "like 2^1,2^2, 2^3,^4, 2^5.......2^n.\n",
        "so sum of GP is (a(r^n -1))/(r-1)\n"
      ],
      "metadata": {
        "id": "LiqPkc6Jb2uP"
      }
    },
    {
      "cell_type": "markdown",
      "source": [
        "Q 17: def fun(N):\n",
        "        i = N\n",
        "        while(i> 0):\n",
        "          for i in range(1, i+1):\n",
        "            print(i*j)\n",
        "        i += i/2\n",
        "    what is TC?\n",
        "\n",
        "Ans: N+N = 2N\n",
        "\n",
        "Explanation: total iteration would be in gp i.e N +N/2 +N/4 +N/8.....1\n",
        "so N+N(1/2 + 1/4+ 1/8 + 1/16.....1) = 2N"
      ],
      "metadata": {
        "id": "eB3ogXbwdOj1"
      }
    },
    {
      "cell_type": "markdown",
      "source": [
        "VERY IMPORTANT"
      ],
      "metadata": {
        "id": "c8JI8GNgemIU"
      }
    },
    {
      "cell_type": "markdown",
      "source": [
        "for erevry large value of N\n",
        "\n",
        "\n",
        "log(N) < sqrt(N)< N< Nlog(N)< Nsqrt(N)< N^2< N^3< N^4......< 2^n."
      ],
      "metadata": {
        "id": "hrzRQRlCemuv"
      }
    },
    {
      "cell_type": "markdown",
      "source": [
        "ASSIGNMENT QUESTION\n",
        "::"
      ],
      "metadata": {
        "id": "QoWQ-vzyfQcm"
      }
    },
    {
      "cell_type": "markdown",
      "source": [
        "Q1 : find tghe time complexity of\n",
        "\n",
        "    What is the time complexity of the following code snippet\n",
        "\n",
        "      for(int i = 1 ; i <= n ; i+=2){\n",
        "\n",
        "      print(i);\n",
        "\n",
        "      }\n",
        "  \n",
        "Ans: N iteration"
      ],
      "metadata": {
        "id": "Q2ynAXcOfTCV"
      }
    },
    {
      "cell_type": "markdown",
      "source": [
        "Q2: Find the TC?\n",
        "\n",
        "What is the time complexity of the following code snippet\n",
        "\n",
        "void solve(int N, int M){\n",
        "\n",
        "for(int i = 1 ; i <= N ; i++){\n",
        "\n",
        "if(N % i == 0)\n",
        "\n",
        "print(i);\n",
        "\n",
        "}\n",
        "\n",
        "for(int i = 1 ; i <= M ; i++){\n",
        "\n",
        "if(M % i == 0)\n",
        "\n",
        "print(i);\n",
        "\n",
        "}\n",
        "\n",
        "}\n",
        "\n",
        "Ans: O(N+M)"
      ],
      "metadata": {
        "id": "SDymN71If45M"
      }
    },
    {
      "cell_type": "markdown",
      "source": [
        "Q3 : What is the time complexity of the following code snippet\n",
        "\n",
        "int func(int n){\n",
        "\n",
        "int s = 0;\n",
        "\n",
        "for(int i = 1 ; i <= 100 ; i++){\n",
        "\n",
        "s = s + i;\n",
        "\n",
        "}\n",
        "\n",
        "return s;\n",
        "\n",
        "}\n",
        "\n",
        "\n",
        "Ans: O(n)"
      ],
      "metadata": {
        "id": "RYUzB_kfgO50"
      }
    },
    {
      "cell_type": "markdown",
      "source": [],
      "metadata": {
        "id": "C1U1ueblgthe"
      }
    },
    {
      "cell_type": "markdown",
      "source": [
        "Q4: What is the time complexity of the following code snippet\n",
        "\n",
        "for(int i = 0 ; i < n ; i++){\n",
        "\n",
        "for(int j = 0 ; j <= i ; j++){\n",
        "\n",
        "print(i+j);\n",
        "\n",
        "}\n",
        "\n",
        "}\n",
        "\n",
        "Ans: O(n**2)"
      ],
      "metadata": {
        "id": "XSYcLb1Kgtk-"
      }
    },
    {
      "cell_type": "markdown",
      "source": [
        "Q 5: What is the time complexity of the following code snippet\n",
        "\n",
        "for(int i = 1 ; i <= n ; i*=2){\n",
        "\n",
        "for(int j = 1 ; j <= n ; j++){\n",
        "\n",
        "print(i + j);\n",
        "\n",
        "}\n",
        "\n",
        "}\n",
        "\n",
        "Ans: O(n**2)"
      ],
      "metadata": {
        "id": "aNwQn4TXg7ZS"
      }
    },
    {
      "cell_type": "markdown",
      "source": [
        "Q6: What is the time complexity of following code:\n",
        "\n",
        "int a = 0, i = N;\n",
        "while (i > 0) {\n",
        "    a += i;\n",
        "    i /= 2;\n",
        "}\n",
        "\n",
        "Ans: O(logN)"
      ],
      "metadata": {
        "id": "4g-GkOoehGli"
      }
    },
    {
      "cell_type": "markdown",
      "source": [
        "Q7: What is the time complexity of the following code snippet\n",
        "\n",
        "for(int i = 1 ; i <= 100 ; i*=2){\n",
        "\n",
        "for(int j = 1 ; j <= n ; j++){\n",
        "\n",
        "print(i + j);\n",
        "\n",
        "}\n",
        "\n",
        "}\n",
        "\n",
        "\n",
        "Ans: n\n",
        "explanation: outer loop is constant and inner loop will run till n."
      ],
      "metadata": {
        "id": "LXqI1InOhclP"
      }
    },
    {
      "cell_type": "markdown",
      "source": [
        "Q 8: What is the time complexity of the following code snippet\n",
        "\n",
        "int func(int n){\n",
        "\n",
        "int s = 0;\n",
        "\n",
        "for(int i = 0 ; i < n ; i = i * 2){\n",
        "\n",
        "s = s + i;\n",
        "\n",
        "}\n",
        "\n",
        "return s;\n",
        "\n",
        "}\n",
        "\n",
        "\n",
        "Ans: infinite"
      ],
      "metadata": {
        "id": "gRPop7n0hun2"
      }
    },
    {
      "cell_type": "markdown",
      "source": [
        "HOMEWORK"
      ],
      "metadata": {
        "id": "cZbYtbNziL_W"
      }
    },
    {
      "cell_type": "markdown",
      "source": [
        "Q1: What is the time complexity of the following code snippet\n",
        "\n",
        "int func(int n){\n",
        "\n",
        "int s = 0;\n",
        "\n",
        "for(int i = 1 ; i*i*i <= n ; i++){\n",
        "\n",
        "s = s + i;\n",
        "\n",
        "}\n",
        "\n",
        "return s;\n",
        "\n",
        "}\n",
        "\n",
        "Ans: n ^(1/3)"
      ],
      "metadata": {
        "id": "xWm8gekMiNwX"
      }
    },
    {
      "cell_type": "markdown",
      "source": [
        "Q2 : ans = 0\n",
        "    for i in range(n):\n",
        "      ans += i*i\n",
        "    return ans\n",
        "  \n",
        "Ans: O(n)"
      ],
      "metadata": {
        "id": "t9wOMVX5iaik"
      }
    },
    {
      "cell_type": "markdown",
      "source": [
        "Q3: What is the time complexity of the following code snippet\n",
        "\n",
        "for(int i = 1 ; i <= n ; i++){\n",
        "\n",
        "for(int j = 1 ; j <= 3^i ; j++){\n",
        "\n",
        "print(i + j);\n",
        "\n",
        "}\n",
        "\n",
        "}\n",
        "\n",
        "Ans: O(3^n)"
      ],
      "metadata": {
        "id": "JVNFEIx-iuVs"
      }
    },
    {
      "cell_type": "markdown",
      "source": [
        "Q4: If an algorithm has a time complexity of O(1), then the complexity of it is ?\n",
        "\n",
        "\n",
        "Ans: Constant"
      ],
      "metadata": {
        "id": "WdiEYRAKi9kK"
      }
    },
    {
      "cell_type": "markdown",
      "source": [
        "Q5: If for an algorithm time complexity is given by O(log2n) then complexity will:\n",
        "constant,polynomial,exponential , none of mention\n",
        "\n",
        "Ans: none of mention  "
      ],
      "metadata": {
        "id": "9PFYdb7xjH85"
      }
    },
    {
      "cell_type": "markdown",
      "source": [
        "Q6: If an algorithm has a time complexity of O(n), then the complexity of it is ?\n",
        "\n",
        "Ans: linear"
      ],
      "metadata": {
        "id": "w5KxHd-qjk2b"
      }
    },
    {
      "cell_type": "markdown",
      "source": [
        "Q7: If for an algorithm time complexity is given by O((3/2)^n) then complexity will:\n",
        "\n",
        "Ans: exponential"
      ],
      "metadata": {
        "id": "QFFB0F9SjvHT"
      }
    }
  ]
}