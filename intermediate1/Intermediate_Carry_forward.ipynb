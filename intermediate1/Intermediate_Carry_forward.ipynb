{
  "nbformat": 4,
  "nbformat_minor": 0,
  "metadata": {
    "colab": {
      "provenance": [],
      "authorship_tag": "ABX9TyNcg7G8sffCuHVmzQbZtZcx",
      "include_colab_link": true
    },
    "kernelspec": {
      "name": "python3",
      "display_name": "Python 3"
    },
    "language_info": {
      "name": "python"
    }
  },
  "cells": [
    {
      "cell_type": "markdown",
      "metadata": {
        "id": "view-in-github",
        "colab_type": "text"
      },
      "source": [
        "<a href=\"https://colab.research.google.com/github/mfdeepa/dsa_python/blob/main/intermediate1/Intermediate_Carry_forward.ipynb\" target=\"_parent\"><img src=\"https://colab.research.google.com/assets/colab-badge.svg\" alt=\"Open In Colab\"/></a>"
      ]
    },
    {
      "cell_type": "markdown",
      "source": [
        "Q 1: Q1. Find all the subarrays\n",
        "Given A = [1, -2, 5, 2, -1, 6]. Choose all the valid subarrays of the array\n",
        "\n",
        "ANS: [5, 2, -1]  [1, -2, 5, 2] and  [6]"
      ],
      "metadata": {
        "id": "RJ8zuQ6l-U0z"
      }
    },
    {
      "cell_type": "markdown",
      "source": [
        "Q2: Special Subsequences \"AG\"\n",
        "You have given a string A having Uppercase English letters.\n",
        "\n",
        "You have to find how many times subsequence \"AG\" is there in the given string.\n",
        "\n",
        "NOTE: Return the answer modulo 10^9 + 7 as the answer can be very large."
      ],
      "metadata": {
        "id": "Fw292HJY-yP3"
      }
    },
    {
      "cell_type": "code",
      "source": [
        "class Solution:\n",
        "    def solve(self, A):\n",
        "        n = len(A)\n",
        "        pf = [0]*n\n",
        "        if A[n-1] == \"G\":\n",
        "            pf[n-1] = 1\n",
        "        for i in range(n-2,-1,-1):\n",
        "            if A[i] == \"G\":\n",
        "                pf[i] = pf[i+1] + 1\n",
        "            else:\n",
        "                pf[i] = pf[i+1]\n",
        "        count = 0\n",
        "        for j in range(n):\n",
        "            if A[j] == \"A\":\n",
        "                count += pf[j]\n",
        "        return count\n",
        "if __name__ ==\"__main__\":\n",
        "  obj = Solution()\n",
        "  A = \"ABCGAG\"\n",
        "  res = obj.solve(A)\n",
        "  print(res)"
      ],
      "metadata": {
        "colab": {
          "base_uri": "https://localhost:8080/"
        },
        "id": "PxgEYdAu-220",
        "outputId": "85744439-1c5e-4c87-9c29-77352bfe49c5"
      },
      "execution_count": null,
      "outputs": [
        {
          "output_type": "stream",
          "name": "stdout",
          "text": [
            "3\n"
          ]
        }
      ]
    },
    {
      "cell_type": "markdown",
      "source": [
        "Q3. Leaders in an array\n",
        "Given an integer array A containing N distinct integers, you have to find all the leaders in array A. An element is a leader if it is strictly greater than all the elements to its right side.\n",
        "\n",
        "NOTE: The rightmost element is always a leader."
      ],
      "metadata": {
        "id": "hftYUrwnBeeI"
      }
    },
    {
      "cell_type": "code",
      "source": [
        "class Solution:\n",
        "    def solve(self, A):\n",
        "        n = len(A)\n",
        "        max_ele = A[n-1]\n",
        "        res = []\n",
        "        res.append(max_ele)\n",
        "        for i in range(n-2,-1,-1):\n",
        "            if A[i] > max_ele:\n",
        "                res.append(A[i])\n",
        "                max_ele = A[i]\n",
        "        return res\n",
        "if __name__ == \"__main__\":\n",
        "  obj = Solution()\n",
        "  A = [16, 17, 4, 3, 5, 2]\n",
        "  res = obj.solve(A)\n",
        "  print(res)"
      ],
      "metadata": {
        "colab": {
          "base_uri": "https://localhost:8080/"
        },
        "id": "1iWHa6tlBpK7",
        "outputId": "133a96f6-25a9-4f7d-b072-a95d70225c57"
      },
      "execution_count": null,
      "outputs": [
        {
          "output_type": "stream",
          "name": "stdout",
          "text": [
            "[2, 5, 17]\n"
          ]
        }
      ]
    },
    {
      "cell_type": "markdown",
      "source": [
        "Q4: Closest MinMax\n",
        "Given an array A, find the size of the smallest subarray such that it contains at least one occurrence of the maximum value of the array\n",
        "\n",
        "and at least one occurrence of the minimum value of the array."
      ],
      "metadata": {
        "id": "v78j9TrhEbfx"
      }
    },
    {
      "cell_type": "code",
      "source": [
        "class Solution:\n",
        "    def solve(self, A):\n",
        "        n = len(A)\n",
        "        maximum = A[0]\n",
        "        minimum = A[0]\n",
        "        for i in range(n):\n",
        "            if A[i] > maximum:\n",
        "                maximum = A[i]\n",
        "            elif A[i] < minimum:\n",
        "                minimum = A[i]\n",
        "        if maximum == minimum:\n",
        "            return 1\n",
        "        ans = n\n",
        "        start_index = -1\n",
        "        end_index = -1\n",
        "        for i in range(n):\n",
        "            if A[i] == maximum:\n",
        "                end_index = i\n",
        "                if start_index != -1:\n",
        "                    ans = min(ans, end_index-start_index + 1)\n",
        "            elif A[i] == minimum:\n",
        "                start_index = i\n",
        "                if end_index != -1:\n",
        "                    ans = min(ans, start_index-end_index+1)\n",
        "\n",
        "        return ans\n",
        "\n",
        "if __name__ == \"__main__\":\n",
        "  obj = Solution()\n",
        "  A = [2, 6, 1, 6, 9]\n",
        "  res = obj.solve(A)\n",
        "  print(res)"
      ],
      "metadata": {
        "colab": {
          "base_uri": "https://localhost:8080/"
        },
        "id": "IKzw1b9EEget",
        "outputId": "270546a1-ccef-4cee-85ae-c32b925043dc"
      },
      "execution_count": null,
      "outputs": [
        {
          "output_type": "stream",
          "name": "stdout",
          "text": [
            "3\n"
          ]
        }
      ]
    },
    {
      "cell_type": "markdown",
      "source": [
        "Q 5:  Best Time to Buy and Sell Stocks I\n",
        "Say you have an array, A, for which the ith element is the price of a given stock on day i.\n",
        "If you were only permitted to complete at most one transaction (ie, buy one and sell one share of the stock), design an algorithm to find the maximum profit.\n",
        "\n",
        "Return the maximum possible profit."
      ],
      "metadata": {
        "id": "EWZDrL0-I7oM"
      }
    },
    {
      "cell_type": "code",
      "source": [
        "class Solution:\n",
        "\tdef maxProfit(self, A):\n",
        "      n = len(A)\n",
        "      if n <= 1:\n",
        "          return 0\n",
        "      buy = A[0]\n",
        "      sell = None;\n",
        "      profit = 0\n",
        "      for i in range(1,n):\n",
        "          if A[i] < buy:\n",
        "              buy = A[i]\n",
        "          elif A[i] > buy:\n",
        "              sell = A[i]\n",
        "              profit = max(profit,sell- buy)\n",
        "      return profit\n",
        "if __name__ == \"__main__\":\n",
        "  obj = Solution()\n",
        "  A = [1, 4, 5, 2, 4]\n",
        "  res = obj.solve(A)\n",
        "  print(res)"
      ],
      "metadata": {
        "colab": {
          "base_uri": "https://localhost:8080/",
          "height": 140
        },
        "id": "dWO-pW67JDPx",
        "outputId": "5f2ab920-9235-44bf-c961-3e7d0bbf3339"
      },
      "execution_count": null,
      "outputs": [
        {
          "output_type": "error",
          "ename": "IndentationError",
          "evalue": "unindent does not match any outer indentation level (<tokenize>, line 3)",
          "traceback": [
            "\u001b[0;36m  File \u001b[0;32m\"<tokenize>\"\u001b[0;36m, line \u001b[0;32m3\u001b[0m\n\u001b[0;31m    n = len(A)\u001b[0m\n\u001b[0m    ^\u001b[0m\n\u001b[0;31mIndentationError\u001b[0m\u001b[0;31m:\u001b[0m unindent does not match any outer indentation level\n"
          ]
        }
      ]
    },
    {
      "cell_type": "markdown",
      "source": [
        "Q 6: Count Subarrays starting with 'a'\n",
        "Given a string A = \"amazon\", find the number of subarrays starting with the character 'a'.\n",
        "\n",
        "Ans: 10"
      ],
      "metadata": {
        "id": "wZwxG76iNKsJ"
      }
    },
    {
      "cell_type": "markdown",
      "source": [
        "Q 7: Amazing Subarrays\n",
        "You are given a string S, and you have to find all the amazing substrings of S.\n",
        "\n",
        "An amazing Substring is one that starts with a vowel (a, e, i, o, u, A, E, I, O, U).\n",
        "\n",
        "Return a single integer X mod 10003, here X is the number of Amazing Substrings in given the string."
      ],
      "metadata": {
        "id": "-aTJsWuTNsa7"
      }
    },
    {
      "cell_type": "code",
      "source": [
        "class Solution:\n",
        "    def solve(self, A):\n",
        "        n = len(A)\n",
        "        count = 0\n",
        "        for i in range(n):\n",
        "            if A[i] == 'a':\n",
        "                count += n -i\n",
        "            elif A[i] == 'A':\n",
        "                count += n -i\n",
        "            elif A[i] == 'e':\n",
        "                count += n -i\n",
        "            elif A[i] == 'E':\n",
        "                count += n -i\n",
        "            elif A[i] == 'i':\n",
        "                count += n -i\n",
        "            elif A[i] == 'I':\n",
        "                count += n -i\n",
        "            elif A[i] == 'o':\n",
        "                count += n -i\n",
        "            elif A[i] == 'O':\n",
        "                count += n -i\n",
        "            elif A[i] == 'u':\n",
        "                count += n -i\n",
        "            elif A[i] == 'U':\n",
        "                count += n -i\n",
        "        return count % 10003\n",
        "if __name__ == \"__main__\":\n",
        "  obj = Solution()\n",
        "  A = \"ABEC\"\n",
        "  res = obj.solve(A)\n",
        "  print(res)"
      ],
      "metadata": {
        "colab": {
          "base_uri": "https://localhost:8080/"
        },
        "id": "v4WP4qoxN0db",
        "outputId": "f52de442-1ec4-4f33-8ad8-02b1662d083d"
      },
      "execution_count": null,
      "outputs": [
        {
          "output_type": "stream",
          "name": "stdout",
          "text": [
            "6\n"
          ]
        }
      ]
    },
    {
      "cell_type": "markdown",
      "source": [
        "Q 8: Even Subarrays\n",
        "You are given an integer array A.\n",
        "\n",
        "Decide whether it is possible to divide the array into one or more subarrays of even length such that the first and last element of all subarrays will be even.\n",
        "\n",
        "Return \"YES\" if it is possible; otherwise, return \"NO\" (without quotes)."
      ],
      "metadata": {
        "id": "nfR4kmPmQcpY"
      }
    },
    {
      "cell_type": "code",
      "source": [
        "class Solution:\n",
        "    def solve(self, A):\n",
        "        n = len(A)\n",
        "        if n% 2 != 0:\n",
        "            return \"NO\"\n",
        "        elif A[0] %2 !=0 or A[n-1]% 2 != 0:\n",
        "            return \"NO\"\n",
        "        return \"YES\"\n",
        "if __name__ == \"__main__\":\n",
        "  obj = Solution()\n",
        "  A = [2, 4, 8, 7, 6]\n",
        "  res = obj.solve(A)\n",
        "  print(res)\n"
      ],
      "metadata": {
        "colab": {
          "base_uri": "https://localhost:8080/"
        },
        "id": "10U5mqitQmc8",
        "outputId": "96687bbe-3306-4ccc-fe28-7389f2916f75"
      },
      "execution_count": null,
      "outputs": [
        {
          "output_type": "stream",
          "name": "stdout",
          "text": [
            "NO\n"
          ]
        }
      ]
    },
    {
      "cell_type": "markdown",
      "source": [
        "Q 9: Q5. Is the bulb ON - I\n",
        "Say the bulb is ON initially, after pressing the switch even number of times, what will be the final state of the bulb?\n",
        "\n",
        "ANS: ON"
      ],
      "metadata": {
        "id": "qCLuGqffRrHF"
      }
    },
    {
      "cell_type": "markdown",
      "source": [],
      "metadata": {
        "id": "-SEEWUkASGBB"
      }
    },
    {
      "cell_type": "markdown",
      "source": [
        "Q 10: Is the bulb ON - II\n",
        "Say the bulb is ON initially, after pressing the switch odd number of times, what will be the final state of the bulb?\n",
        "\n",
        "ANS: OFF"
      ],
      "metadata": {
        "id": "UabTtPoYSGB1"
      }
    },
    {
      "cell_type": "markdown",
      "source": [
        "Q 11: BULB\n",
        "A wire connects N light bulbs.\n",
        "\n",
        "Each bulb has a switch associated with it; however, due to faulty wiring, a switch also changes the state of all the bulbs to the right of the current bulb.\n",
        "\n",
        "Given an initial state of all bulbs, find the minimum number of switches you have to press to turn on all the bulbs.\n",
        "\n",
        "You can press the same switch multiple times.\n",
        "\n",
        "Note: 0 represents the bulb is off and 1 represents the bulb is on."
      ],
      "metadata": {
        "id": "77fL6UMrSQke"
      }
    },
    {
      "cell_type": "code",
      "source": [
        "class Solution:\n",
        "\tdef bulbs(self, A):\n",
        "    n = len(A)\n",
        "    if n == 0:\n",
        "        return 0\n",
        "    count = 0\n",
        "    if A[0] == 0:\n",
        "        count += 1\n",
        "    for i in range(1,n):\n",
        "        if A[i] == 0 and A[i-1] == 0:\n",
        "            continue\n",
        "        elif A[i] == 0 and A[i-1] == 1:\n",
        "            count += 1\n",
        "        elif A[i] == 1 and A[i-1] == 1:\n",
        "            continue\n",
        "        elif A[i] == 1 and A[i-1] == 0:\n",
        "            count += 1\n",
        "    return count\n",
        "if __name__ == \"__main__\":\n",
        "  obj = Solution()\n",
        "  A = [0, 1, 0, 1]\n",
        "  res = obj.solve(A)\n",
        "  print(res)\n"
      ],
      "metadata": {
        "colab": {
          "base_uri": "https://localhost:8080/",
          "height": 140
        },
        "id": "SpbXpe8FSXdd",
        "outputId": "51a57c2b-644b-43bb-e719-192f490727eb"
      },
      "execution_count": null,
      "outputs": [
        {
          "output_type": "error",
          "ename": "IndentationError",
          "evalue": "unindent does not match any outer indentation level (<tokenize>, line 3)",
          "traceback": [
            "\u001b[0;36m  File \u001b[0;32m\"<tokenize>\"\u001b[0;36m, line \u001b[0;32m3\u001b[0m\n\u001b[0;31m    n = len(A)\u001b[0m\n\u001b[0m    ^\u001b[0m\n\u001b[0;31mIndentationError\u001b[0m\u001b[0;31m:\u001b[0m unindent does not match any outer indentation level\n"
          ]
        }
      ]
    },
    {
      "cell_type": "markdown",
      "source": [
        "Q 12: Pick from both sides!\n",
        "You are given an integer array A of size N.\n",
        "\n",
        "You have to perform B operations. In one operation, you can remove either the leftmost or the rightmost element of the array A.\n",
        "\n",
        "Find and return the maximum possible sum of the B elements that were removed after the B operations.\n",
        "\n",
        "NOTE: Suppose B = 3, and array A contains 10 elements, then you can:\n",
        "\n",
        "Remove 3 elements from front and 0 elements from the back, OR\n",
        "Remove 2 elements from front and 1 element from the back, OR\n",
        "Remove 1 element from front and 2 elements from the back, OR\n",
        "Remove 0 elements from front and 3 elements from the back."
      ],
      "metadata": {
        "id": "ffLt-O4hVULJ"
      }
    },
    {
      "cell_type": "code",
      "source": [
        "class Solution:\n",
        "    def solve(self, A, B):\n",
        "        n = len(A)\n",
        "        addition = 0\n",
        "        for i in range(B):\n",
        "            addition += A[i]\n",
        "        maximum  = addition\n",
        "        start = B-1\n",
        "        end = n-1\n",
        "        while end >= n- B:\n",
        "            addition = addition - A[start] + A[end]\n",
        "            start -=1\n",
        "            end -= 1\n",
        "            maximum = max(maximum, addition)\n",
        "        return maximum\n",
        "if __name__ == \"__main__\":\n",
        "  obj = Solution()\n",
        "  A = [5, -2, 3 , 1, 2]\n",
        "  B = 3\n",
        "  res = obj.solve(A,B)\n",
        "  print(res)\n"
      ],
      "metadata": {
        "colab": {
          "base_uri": "https://localhost:8080/"
        },
        "id": "h158W6_CVbg0",
        "outputId": "1a3bfc0d-5ffc-42c4-a5ca-8ebc22294d24"
      },
      "execution_count": null,
      "outputs": [
        {
          "output_type": "stream",
          "name": "stdout",
          "text": [
            "8\n"
          ]
        }
      ]
    }
  ]
}