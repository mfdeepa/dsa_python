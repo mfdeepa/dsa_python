{
  "nbformat": 4,
  "nbformat_minor": 0,
  "metadata": {
    "colab": {
      "provenance": [],
      "authorship_tag": "ABX9TyPY0aa28H3qOoXEwjfbjUCJ",
      "include_colab_link": true
    },
    "kernelspec": {
      "name": "python3",
      "display_name": "Python 3"
    },
    "language_info": {
      "name": "python"
    }
  },
  "cells": [
    {
      "cell_type": "markdown",
      "metadata": {
        "id": "view-in-github",
        "colab_type": "text"
      },
      "source": [
        "<a href=\"https://colab.research.google.com/github/mfdeepa/dsa_python/blob/main/intermediate1/Array_interview_problems2.ipynb\" target=\"_parent\"><img src=\"https://colab.research.google.com/assets/colab-badge.svg\" alt=\"Open In Colab\"/></a>"
      ]
    },
    {
      "cell_type": "markdown",
      "source": [
        "Q 1: Sum of even indices\n",
        "Problem Description\n",
        "You are given an array A of length N and Q queries given by the 2D array B of size Q*2. Each query consists of two integers B[i][0] and B[i][1].\n",
        "For every query, the task is to calculate the sum of all even indices in the range A[B[i][0]…B[i][1]].\n",
        "\n",
        "Note : Use 0-based indexing\n",
        "input:\n",
        "A = [1, 2, 3, 4, 5]\n",
        "B = [   [0,2]\n",
        "        [1,4]   ]\n",
        "Explanation: The subarray for the first query is [1, 2, 3] whose sum of even indices is 4.\n",
        "The subarray for the second query is [2, 3, 4, 5] whose sum of even indices is 8."
      ],
      "metadata": {
        "id": "5KSIKqb9SeGj"
      }
    },
    {
      "cell_type": "code",
      "source": [
        "class Solution:\n",
        "  def solve(self, A, B):\n",
        "    n = len(A)\n",
        "    m = len(B)\n",
        "    pf = []\n",
        "    add = 0\n",
        "    for i in range(n):\n",
        "        if i % 2 == 0:\n",
        "            add += A[i]\n",
        "        pf.append(add)\n",
        "\n",
        "    res = []\n",
        "    for j in B:\n",
        "        start = j[0]\n",
        "        end = j[1]\n",
        "        if start != 0:\n",
        "            value = pf[end] - pf[start-1]\n",
        "        else:\n",
        "            value = pf[end]\n",
        "        res.append(value)\n",
        "    return res\n",
        "if __name__ == \"__main__\":\n",
        "  obj = Solution()\n",
        "  A = [1, 2, 3, 4, 5]\n",
        "  B = [[0,2], [1,4]]\n",
        "  res = obj.solve(A,B)\n",
        "  print(res)"
      ],
      "metadata": {
        "colab": {
          "base_uri": "https://localhost:8080/"
        },
        "id": "LZcQqDzKSsKg",
        "outputId": "fde5f038-4d03-43f2-d44d-a4a2a7053a2d"
      },
      "execution_count": null,
      "outputs": [
        {
          "output_type": "stream",
          "name": "stdout",
          "text": [
            "[4, 8]\n"
          ]
        }
      ]
    },
    {
      "cell_type": "markdown",
      "source": [
        "Q2. Sum of odd indices\n",
        "Problem Description\n",
        "You are given an array A of length N and Q queries given by the 2D array B of size Q*2. Each query consists of two integers B[i][0] and B[i][1].\n",
        "For every query, the task is to calculate the sum of all odd indices in the range A[B[i][0]…B[i][1]].\n",
        "\n",
        "Note : Use 0-based indexing\n",
        "A = [1, 2, 3, 4, 5]\n",
        "B = [   [0,2]\n",
        "        [1,4]   ]\n",
        "\n",
        "Explanation: The subarray for the first query is [1, 2, 3] whose sum of odd indices is 2.\n",
        "The subarray for the second query is [2, 3, 4, 5] whose sum of odd indices is 6."
      ],
      "metadata": {
        "id": "UNoDmwxKblSE"
      }
    },
    {
      "cell_type": "code",
      "source": [
        "class Solution:\n",
        "      def solve(self, A, B):\n",
        "        n = len(A)\n",
        "        m = len(B)\n",
        "        pf = []\n",
        "        add = 0\n",
        "        for i in range(n):\n",
        "            if i % 2 != 0:\n",
        "                add += A[i]\n",
        "            pf.append(add)\n",
        "\n",
        "        res = []\n",
        "        for j  in B:\n",
        "            start = j[0]\n",
        "            end = j[1]\n",
        "            if start == 0:\n",
        "                value = pf[end]\n",
        "            else:\n",
        "                value = pf[end] - pf[start-1]\n",
        "            res.append(value)\n",
        "\n",
        "        return res\n",
        "if __name__ == \"__main__\":\n",
        "  obj = Solution()\n",
        "  A = [1, 2, 3, 4, 5]\n",
        "  B = [[0,2], [1,4]]\n",
        "  res = obj.solve(A,B)\n",
        "  print(res)"
      ],
      "metadata": {
        "colab": {
          "base_uri": "https://localhost:8080/"
        },
        "id": "xhkDfZkdbxUa",
        "outputId": "92d7cbf5-228b-4342-d42a-43d1afa6f3a5"
      },
      "execution_count": null,
      "outputs": [
        {
          "output_type": "stream",
          "name": "stdout",
          "text": [
            "[2, 6]\n"
          ]
        }
      ]
    },
    {
      "cell_type": "markdown",
      "source": [
        "Q3. Special Index\n",
        "Problem Description\n",
        "Given an array, arr[] of size N, the task is to find the count of array indices such that removing an element from these indices makes the sum of even-indexed and odd-indexed array elements equal.\n",
        "input:\n",
        "A = [2, 1, 6, 4]\n",
        "explanation: Removing arr[1] from the array modifies arr[] to { 2, 6, 4 } such that, arr[0] + arr[2] = arr[1].\n",
        "Therefore, the required output is 1."
      ],
      "metadata": {
        "id": "Xb2f1tW_dQqF"
      }
    },
    {
      "cell_type": "code",
      "source": [
        "class Solution:\n",
        "      def solve(self, A):\n",
        "        n = len(A)\n",
        "        podd = []\n",
        "        peven = []\n",
        "        even = 0\n",
        "        odd = 0\n",
        "        for item in range(n):\n",
        "            if item % 2 == 0:\n",
        "                even += A[item]\n",
        "            else:\n",
        "                odd += A[item]\n",
        "            peven.append(even)\n",
        "            podd.append(odd)\n",
        "\n",
        "        count = 0\n",
        "        for i in range(n):\n",
        "            if i == 0:\n",
        "                seven = podd[n-1]\n",
        "                sodd = peven[n-1] - peven[i]\n",
        "            else:\n",
        "                seven = peven[i-1] + podd[n-1] - podd[i]\n",
        "                sodd = podd[i-1] + peven[n-1] - peven[i]\n",
        "            if seven == sodd:\n",
        "                count += 1\n",
        "        return count\n",
        "if __name__ == \"__main__\":\n",
        "  obj = Solution()\n",
        "  A = [2, 1, 6, 4]\n",
        "  res = obj.solve(A)\n",
        "  print(res)"
      ],
      "metadata": {
        "colab": {
          "base_uri": "https://localhost:8080/"
        },
        "id": "ThiVVfH6drX_",
        "outputId": "bb666667-5962-4807-dd59-8465840cadcb"
      },
      "execution_count": null,
      "outputs": [
        {
          "output_type": "stream",
          "name": "stdout",
          "text": [
            "1\n"
          ]
        }
      ]
    },
    {
      "cell_type": "markdown",
      "source": [
        "Q4. Majority Element\n",
        "Problem Description\n",
        "Given an array of size N, find the majority element. The majority element is the element that appears more than floor(n/2) times.\n",
        "You may assume that the array is non-empty and the majority element always exists in the array.\n",
        "input: [2, 1, 2]\n",
        "Explanation: 2 occurs 2 times which is greater than 3/2."
      ],
      "metadata": {
        "id": "KM2qwxwIH9ri"
      }
    },
    {
      "cell_type": "code",
      "source": [
        "# 1st approach TC = O(N)+O(nLOG(n))  AND SC = O(1)\n",
        "class Solution:\n",
        "      def majorityElement(self, A):\n",
        "        A = list(A)\n",
        "        n = len(A)\n",
        "        A.sort()\n",
        "        maximum, current = 1,1\n",
        "        if n == 1:\n",
        "            return A[0]\n",
        "        for i in range(1,n):\n",
        "            if A[i-1] == A[i]:\n",
        "                current += 1\n",
        "            else:\n",
        "                current = 1\n",
        "            maximum = max(maximum, current)\n",
        "            if maximum > n/2:\n",
        "                return A[i]\n",
        "        return -1\n",
        "if __name__ == \"__main__\":\n",
        "  obj = Solution()\n",
        "  A =[2, 1, 2]\n",
        "  res = obj.majorityElement(A)\n",
        "  print(res)"
      ],
      "metadata": {
        "colab": {
          "base_uri": "https://localhost:8080/"
        },
        "id": "WBidCPvOILMn",
        "outputId": "9f0fe9a6-52fe-4b71-acd2-14823044508c"
      },
      "execution_count": null,
      "outputs": [
        {
          "output_type": "stream",
          "name": "stdout",
          "text": [
            "2\n"
          ]
        }
      ]
    },
    {
      "cell_type": "code",
      "source": [
        "# another approach with TC = O(N) AND SC = O(N)\n",
        "class Solution:\n",
        "    def majorityElement(self, A):\n",
        "        n = len(A)\n",
        "        dic = {}\n",
        "        for i in A:\n",
        "            if i in dic:\n",
        "                dic[i] += 1\n",
        "            else:\n",
        "                dic[i] = 1\n",
        "\n",
        "        for i in dic:\n",
        "            if dic[i] > n/2:\n",
        "                return i\n",
        "if __name__ == \"__main__\":\n",
        "  obj = Solution()\n",
        "  A =[2, 1, 2]\n",
        "  res = obj.majorityElement(A)\n",
        "  print(res)"
      ],
      "metadata": {
        "colab": {
          "base_uri": "https://localhost:8080/"
        },
        "id": "-bpkllgooTzE",
        "outputId": "5b4e3c57-edbd-47b5-c39c-90512875cf33"
      },
      "execution_count": null,
      "outputs": [
        {
          "output_type": "stream",
          "name": "stdout",
          "text": [
            "2\n"
          ]
        }
      ]
    },
    {
      "cell_type": "markdown",
      "source": [
        "Q 5: N/3 Repeat Number\n",
        "Problem Description\n",
        "You're given a read-only array of N integers. Find out if any integer occurs more than N/3 times in the array in linear time and constant additional space.\n",
        "If so, return the integer. If not, return -1.\n",
        "\n",
        "If there are multiple solutions, return any one.\n",
        "\n",
        "Note: Read-only array means that the input array should not be modified in the process of solving the problem\n",
        "input : [1 2 3 1 1]\n",
        "Explanation: 1 occurs 3 times which is more than 5/3 times."
      ],
      "metadata": {
        "id": "k_y4WAvwIOif"
      }
    },
    {
      "cell_type": "code",
      "source": [
        "class Solution:\n",
        "      def repeatedNumber(self, A):\n",
        "        A = list(A)\n",
        "        n = len(A)\n",
        "        A.sort()\n",
        "        maxcount,currentcount = 1,1\n",
        "        if n == 1:\n",
        "            return A[0]\n",
        "        for i in range(1,n):\n",
        "            if A[i-1] == A[i]:\n",
        "                currentcount += 1\n",
        "            else:\n",
        "                currentcount = 1\n",
        "            maxcount = max(maxcount, currentcount)\n",
        "            if maxcount > n/3 :\n",
        "                return A[i]\n",
        "        return -1\n",
        "if __name__ == \"__main__\":\n",
        "  obj = Solution()\n",
        "  A =[1, 2, 3, 1, 1]\n",
        "  res = obj.repeatedNumber(A)\n",
        "  print(res)"
      ],
      "metadata": {
        "colab": {
          "base_uri": "https://localhost:8080/"
        },
        "id": "Nbvjm0nbIedY",
        "outputId": "5fc88dce-6550-4193-8419-63f5a5eec12c"
      },
      "execution_count": null,
      "outputs": [
        {
          "output_type": "stream",
          "name": "stdout",
          "text": [
            "1\n"
          ]
        }
      ]
    },
    {
      "cell_type": "markdown",
      "source": [
        "Q 6:  Color of the last bal\n",
        "You have 20 blue balls and 14 red balls in a bag. You put your hand in and remove 2 at a time.\n",
        "\n",
        "If they’re of the same color, you add a blue ball to the bag.\n",
        "If they’re of different colors, you add a red ball to the bag.\n",
        "( Assume you have a big supply of blue & red balls for this purpose).\n",
        "\n",
        "Note: When you take the two balls out, you don’t put them back in, so the number of balls in the bag keeps decreasing.\n",
        "\n",
        "What will be the color of the last ball left in the bag?\n",
        "\n",
        "option: RED, BLUE, Indeterministic\n",
        "\n",
        "\n",
        "ANS: Blue"
      ],
      "metadata": {
        "id": "mOGGgLmGIggX"
      }
    },
    {
      "cell_type": "code",
      "source": [
        "import random\n",
        "c = [0,1,2] #0 represend 1R and 1B, 1 represent boht balls are red and 2 represent both ball are blue\n",
        "R = 20\n",
        "B = 14\n",
        "steps = 0\n",
        "while R+B > 1:\n",
        "  steps += 1\n",
        "  outcome = random.choice(c)\n",
        "  if outcome == 0 and R > 0 and B >0:\n",
        "    B -= 1\n",
        "  elif outcome == 1 and R> 1:\n",
        "    B += 1\n",
        "    R -= 2\n",
        "  elif outcome == 2 and B > 1:\n",
        "    B -= 1\n",
        "print(R,B,steps)"
      ],
      "metadata": {
        "colab": {
          "base_uri": "https://localhost:8080/"
        },
        "id": "QMm_2p8FvafC",
        "outputId": "a982f5c4-cc20-4563-999d-207b711d0def"
      },
      "execution_count": null,
      "outputs": [
        {
          "output_type": "stream",
          "name": "stdout",
          "text": [
            "0 1 52\n"
          ]
        }
      ]
    },
    {
      "cell_type": "markdown",
      "source": [
        "Q 7:  Color of the last ball II\n",
        "You have 20 blue balls and 13 red balls in a bag. You put your hand in and remove two at a time.\n",
        "\n",
        "If they’re of the same color, you add a blue ball to the bag.\n",
        "If they’re of different colors, you add a red ball to the bag.\n",
        "Assume you have an enormous supply of blue & red balls for this purpose.\n",
        "\n",
        "Note: When you take the two balls out, you don’t put them back in, so the number of balls in the bag keeps decreasing.\n",
        "\n",
        "What will be the color of the last ball left in the bag?\n",
        "\n",
        "OPTION: RED, BLUE, Indeterministic\n",
        "\n",
        "ANS:"
      ],
      "metadata": {
        "id": "5wwM8FtMItfw"
      }
    },
    {
      "cell_type": "markdown",
      "source": [
        "The last ball in the bag will be red.\n",
        "\n",
        "Given:\n",
        "\n",
        "Total number of blue balls = 20\n",
        "\n",
        "Total number of red balls = 13\n",
        "\n",
        "Balls removed at a time = 2\n",
        "\n",
        "To Find:\n",
        "\n",
        "The colour of the last ball in the bag\n",
        "\n",
        "Solution:\n",
        "\n",
        "There are three possible cases of removing the two balls -\n",
        "\n",
        "1 ) If we remove 1 Red and 1 Blue, we will actually remove 1 Blue.\n",
        "\n",
        "2 )If we take off two reds, we will indeed take off two reds (and add 1 Blue)\n",
        "\n",
        "3 ) If we remove 2 Blue, we will really remove 1 Blue.\n",
        "\n",
        "In cases 1 and 2, we only remove one blue ball, but we always remove two red balls at a time.\n",
        "\n",
        "Now,\n",
        "\n",
        "Because the number of red is odd, thus, there will be just one red ball in the bag with other blue balls.\n",
        "\n",
        "Removing one red and one blue ball will result in just removing the blue ball.\n",
        "\n",
        "Answer: The red ball will be the bag's final ball."
      ],
      "metadata": {
        "id": "qiZ7HSoax0J5"
      }
    },
    {
      "cell_type": "code",
      "source": [
        "import random\n",
        "c = [0,1,2] #0 represend 1R and 1B, 1 represent boht balls are red and 2 represent both ball are blue\n",
        "R = 20\n",
        "B = 14\n",
        "steps = 0\n",
        "while R+B > 1:\n",
        "  steps += 1\n",
        "  outcome = random.choice(c)\n",
        "  if outcome == 0 and R > 0 and B >0:\n",
        "    B -= 1\n",
        "  elif outcome == 1 and R> 1:\n",
        "    B += 1\n",
        "    R -= 2\n",
        "  elif outcome == 2 and B > 1:\n",
        "    B -= 1\n",
        "print(R,B,steps)"
      ],
      "metadata": {
        "colab": {
          "base_uri": "https://localhost:8080/"
        },
        "id": "cPeSfQZbx1AK",
        "outputId": "3b666edf-b48b-48ae-f4cf-5e66cc32d105"
      },
      "execution_count": null,
      "outputs": [
        {
          "output_type": "stream",
          "name": "stdout",
          "text": [
            "0 1 45\n"
          ]
        }
      ]
    },
    {
      "cell_type": "markdown",
      "source": [
        "Q 8:  Ratio of Boys and Girls\n",
        "In a country where everyone wants a boy, each family continues having babies till they have a boy. After a long time, what is the proportion of boys to girls in the country? (Assuming probability of having a boy or a girl is the same) > Round off your answer to two decimal places and output the answer as I.xx where I is the integer part of your answer, and xx is the first two decimal places of the rounded-off answer."
      ],
      "metadata": {
        "id": "ZlNEB-7bI5VC"
      }
    },
    {
      "cell_type": "markdown",
      "source": [
        "ANS:\n",
        "here 2 logics are used   probability and GP\n",
        "\n",
        "P(boy)=1/2\n",
        "p(girl)=1/2\n",
        "it will be like\n",
        "B\n",
        "GB\n",
        "GGB\n",
        "…\n",
        "\n",
        "so total probability is 1/2 +(1/2)(1/2) +(1/2)(1/2)(1/2) + (1/2)(1/2)(1/2)(1/2) + …   infinity\n",
        "so,  it is and Gp with infinity\n",
        "Sum of Infinite GP = a/1-r  \n",
        " a is first term  = 1/2\n",
        "r is the common ratio  =1/2\n",
        "\n",
        "sum will be   (1/2) / (1-(1/2) )  = 1\n",
        "\n",
        "so ans  is 1.00 as required format asked in uestion\n"
      ],
      "metadata": {
        "id": "4ANxmFn1JO9X"
      }
    },
    {
      "cell_type": "markdown",
      "source": [
        "here 2 logics are used   probability and GP\n",
        "\n",
        "P(boy)=1/2\n",
        "p(girl)=1/2\n",
        "it will be like\n",
        "B\n",
        "GB\n",
        "GGB\n",
        "…\n",
        "\n",
        "so total probability is 1/2 +(1/2)(1/2) +(1/2)(1/2)(1/2) + (1/2)(1/2)(1/2)(1/2) + …   infinity\n",
        "so,  it is and Gp with infinity\n",
        "Sum of Infinite GP = a/1-r  \n",
        " a is first term  = 1/2\n",
        "r is the common ratio  =1/2\n",
        "\n",
        "sum will be   (1/2) / (1-(1/2) )  = 1\n",
        "\n",
        "so ans  is 1.00 as required format asked in uestion\n"
      ],
      "metadata": {
        "id": "EfjM5_xJJQnT"
      }
    }
  ]
}