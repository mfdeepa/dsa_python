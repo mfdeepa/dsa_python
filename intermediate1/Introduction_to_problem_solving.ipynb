{
  "nbformat": 4,
  "nbformat_minor": 0,
  "metadata": {
    "colab": {
      "provenance": [],
      "authorship_tag": "ABX9TyPC/fx1TxBeStTnVBpEPgYi",
      "include_colab_link": true
    },
    "kernelspec": {
      "name": "python3",
      "display_name": "Python 3"
    },
    "language_info": {
      "name": "python"
    }
  },
  "cells": [
    {
      "cell_type": "markdown",
      "metadata": {
        "id": "view-in-github",
        "colab_type": "text"
      },
      "source": [
        "<a href=\"https://colab.research.google.com/github/mfdeepa/dsa_python/blob/main/intermediate1/Introduction_to_problem_solving.ipynb\" target=\"_parent\"><img src=\"https://colab.research.google.com/assets/colab-badge.svg\" alt=\"Open In Colab\"/></a>"
      ]
    },
    {
      "cell_type": "markdown",
      "source": [],
      "metadata": {
        "id": "eZtx5-Eor8Pr"
      }
    },
    {
      "cell_type": "markdown",
      "source": [
        "Q 1: Given an integer A, you need to find the count of it's factors.\n",
        "\n",
        "Factor of a number is the number which divides it perfectly leaving no remainder.\n",
        "\n",
        "Example : 1, 2, 3, 6  are factors of 6 means 6 is divided by all these factors so total is 4 factor."
      ],
      "metadata": {
        "id": "BHgWN4N7rpoC"
      }
    },
    {
      "cell_type": "code",
      "source": [
        "class Solution:\n",
        "  def get_factor(self,A):\n",
        "    A = int(input())\n",
        "    count = 0\n",
        "    item = 1\n",
        "    while item <= A/item:\n",
        "      if A % item == 0:\n",
        "        if item == A/item:\n",
        "          count += 1\n",
        "        else:\n",
        "          count += 2\n",
        "      item += 1\n",
        "    return count\n",
        "if __name__ == \"__main__\":\n",
        "  var = Solution()\n",
        "  print(var.get_factor(10))\n"
      ],
      "metadata": {
        "colab": {
          "base_uri": "https://localhost:8080/"
        },
        "id": "YMiXWWvlsX76",
        "outputId": "0adf98cc-2e0d-4dc2-d760-841545bc512b"
      },
      "execution_count": null,
      "outputs": [
        {
          "output_type": "stream",
          "name": "stdout",
          "text": [
            "10\n",
            "4\n"
          ]
        }
      ]
    },
    {
      "cell_type": "markdown",
      "source": [
        "Q 2: Is prime : Given a number A. Return 1 if A is prime and return 0 if not.\n",
        "Note :\n",
        "The value of A can cross the range of Integer.\n",
        "prime number: if number is didvided by itself and 1 then its a prime number."
      ],
      "metadata": {
        "id": "3IrLsaciuMvi"
      }
    },
    {
      "cell_type": "code",
      "source": [
        "class Solution:\n",
        "\n",
        "  def count_factor(self,A):\n",
        "    count = 0\n",
        "    item = 1\n",
        "    while item <= A/item:\n",
        "      if A % item == 0:\n",
        "        if A/item == item:\n",
        "          count += 1\n",
        "        else:\n",
        "          count +=2\n",
        "      item += 1\n",
        "    return count\n",
        "\n",
        "  def solve(self,A):\n",
        "    x = self.count_factor(A)\n",
        "    if x == 2:\n",
        "      return 1\n",
        "    return 0\n",
        "if __name__ == \"__main__\":\n",
        "  is_prime = Solution()\n",
        "  print(is_prime.solve(5))\n"
      ],
      "metadata": {
        "colab": {
          "base_uri": "https://localhost:8080/"
        },
        "id": "3GZT-AabW55G",
        "outputId": "f993ce01-76d0-4bc0-8358-bd4664de96e7"
      },
      "execution_count": null,
      "outputs": [
        {
          "output_type": "stream",
          "name": "stdout",
          "text": [
            "1\n"
          ]
        }
      ]
    },
    {
      "cell_type": "markdown",
      "source": [
        "Q 3:Given a number A. Return square root of the number if it is perfect square otherwise return -1.\n",
        "Note: A number is a perfect square if its square root is an integer."
      ],
      "metadata": {
        "id": "fbUWcvs3YWZQ"
      }
    },
    {
      "cell_type": "code",
      "source": [
        "class Solution:\n",
        "  def solve(self,A):\n",
        "    item = 1\n",
        "    while item*item <= A:\n",
        "      if item*item == A:\n",
        "        return item\n",
        "      item += 1\n",
        "    return -1\n",
        "if __name__ == \"__main__\":\n",
        "  x = Solution()\n",
        "  print(x.solve(35))\n",
        "\n",
        "\n",
        "# another approach\n",
        "# class Solution:\n",
        "#     # @param A : integer\n",
        "#     # @return an integer\n",
        "#     def solve(self, A):\n",
        "#         low = 1\n",
        "#         high = A\n",
        "#         while low <= high:\n",
        "#             mid = (low+high)//2\n",
        "#             if mid*mid == A:\n",
        "#                 return mid\n",
        "#             elif mid*mid > A:\n",
        "#                 high = mid -1\n",
        "#             elif mid*mid < A:\n",
        "#                 low = mid +1\n",
        "#         return -1\n",
        "\n",
        "#         #TC : log(n)"
      ],
      "metadata": {
        "colab": {
          "base_uri": "https://localhost:8080/"
        },
        "id": "IZnaTrPCYfEe",
        "outputId": "dda0d16e-8372-4ee7-a754-5793a5d24026"
      },
      "execution_count": null,
      "outputs": [
        {
          "output_type": "stream",
          "name": "stdout",
          "text": [
            "-1\n"
          ]
        }
      ]
    },
    {
      "cell_type": "markdown",
      "source": [
        "Q 4: Find the number of times below code runs where N is a perfect square\n",
        "\n",
        "for i -> 1 to N\n",
        "\n",
        "if(i * i == N)\n",
        "\n",
        "return i\n",
        "\n",
        "ans : Square root of N."
      ],
      "metadata": {
        "id": "rwMk8xo4ZtpU"
      }
    },
    {
      "cell_type": "markdown",
      "source": [
        "Q 5: the sum of N natural nnumber?\n",
        "ans: (N(N+1))/2"
      ],
      "metadata": {
        "id": "zSST51buav67"
      }
    },
    {
      "cell_type": "markdown",
      "source": [
        "**HOME WORK**"
      ],
      "metadata": {
        "id": "4XMSGea4a-_o"
      }
    },
    {
      "cell_type": "markdown",
      "source": [
        "Q1: Find perfect number\n",
        "You are given an integer A. You have to tell whether it is a perfect number or not.\n",
        "\n",
        "Perfect number is a positive integer which is equal to the sum of its proper positive divisors.\n",
        "\n",
        "A proper divisor of a natural number is the divisor that is strictly less than the number."
      ],
      "metadata": {
        "id": "WGMc2H60bGlN"
      }
    },
    {
      "cell_type": "code",
      "source": [
        "class Solution:\n",
        "  def solve(self,A):\n",
        "    addition = 1\n",
        "    item = 2\n",
        "    while item <=A/item:\n",
        "      if A%item ==0:\n",
        "        if item == A/item:\n",
        "          addition += item\n",
        "        else:\n",
        "          addition += item+ A/item\n",
        "      item += 1\n",
        "    if addition !=A or addition > A:\n",
        "      return 0\n",
        "    return 1\n",
        "if __name__ == \"__main__\":\n",
        "  perfect_num = Solution()\n",
        "  print(perfect_num.solve(6))"
      ],
      "metadata": {
        "colab": {
          "base_uri": "https://localhost:8080/"
        },
        "id": "oZLjUIssbVne",
        "outputId": "0c0788ec-ce67-456a-bde2-5a64fc739406"
      },
      "execution_count": null,
      "outputs": [
        {
          "output_type": "stream",
          "name": "stdout",
          "text": [
            "1\n"
          ]
        }
      ]
    },
    {
      "cell_type": "markdown",
      "source": [
        "Q2: count of prime\n",
        "You will be given an integer n. You need to return the count of prime numbers less than or equal to n.\n",
        "example : Primes <= 19 are 2, 3, 5, 7, 11, 13, 17, 19\n",
        "output : 8\n"
      ],
      "metadata": {
        "id": "p2l_y237d4iG"
      }
    },
    {
      "cell_type": "code",
      "source": [
        "from os import cpu_count\n",
        "class Solution:\n",
        "  def is_prime(self,A):\n",
        "    item = 1\n",
        "    count = 0\n",
        "    while item <= A/item:\n",
        "      if A%item == 0:\n",
        "        if item == A/item:\n",
        "          count +=1\n",
        "        else:\n",
        "          count += 2\n",
        "      item += 1\n",
        "    return count\n",
        "\n",
        "  def solve(self,A):\n",
        "    add = 0\n",
        "    for ele in range(2, A+1):\n",
        "      x = self.is_prime(ele)\n",
        "      if x == 2:\n",
        "        add += 1\n",
        "\n",
        "    return  add\n",
        "if __name__ ==\"__main__\":\n",
        "  prime_num = Solution()\n",
        "  print(prime_num.solve(19))"
      ],
      "metadata": {
        "colab": {
          "base_uri": "https://localhost:8080/"
        },
        "id": "J5GGU9GTemBj",
        "outputId": "4a3a364d-d5ac-4b24-e873-49fbf0c166af"
      },
      "execution_count": null,
      "outputs": [
        {
          "output_type": "stream",
          "name": "stdout",
          "text": [
            "8\n"
          ]
        }
      ]
    },
    {
      "cell_type": "markdown",
      "source": [
        "Q3: Given two integers A and B. A represents the count of mangoes and B represent the count of slices of mangoes. Mango can be cut into three slices of mangoes. A glass of mango shake can be formed by two slices of mangoes.\n",
        "\n",
        "Find the maximum number of glasses of mango shakes you can make with A mangoes and B slices of mangoes initially.\n",
        "\n",
        "example: Input 1:\n",
        "    A = 19\n",
        "    B = 0\n",
        "Output 1:\n",
        "    28\n"
      ],
      "metadata": {
        "id": "rOgMUA3-gxUe"
      }
    },
    {
      "cell_type": "code",
      "source": [
        "class Solution:\n",
        "  def solve(self,A,B):\n",
        "    total_slices = A*3 + B\n",
        "    num_mango_shake = total_slices//2\n",
        "    return num_mango_shake\n",
        "\n",
        "if __name__ == \"__main__\":\n",
        "  num_shake = Solution()\n",
        "  print(num_shake.solve(7,1))"
      ],
      "metadata": {
        "colab": {
          "base_uri": "https://localhost:8080/"
        },
        "id": "nzpPciDmhUhL",
        "outputId": "5df3f3eb-c4b1-4a6f-ae07-3e1c53bf5c62"
      },
      "execution_count": null,
      "outputs": [
        {
          "output_type": "stream",
          "name": "stdout",
          "text": [
            "11\n"
          ]
        }
      ]
    },
    {
      "cell_type": "markdown",
      "source": [
        "Q4: Number of element in a range\n",
        "How many elements are there between [135, 246] (inclusive of them) ?\n",
        "\n",
        "ans: 246-135+1 = 112\n",
        "b-a+1: it include the a but not b."
      ],
      "metadata": {
        "id": "fPynb3B8iXAk"
      }
    },
    {
      "cell_type": "markdown",
      "source": [
        "Q 5: Divided by 2.\n",
        "What is the number of times we need to divide N by 2 till it reaches 1 ?\n",
        "\n",
        "ans: floor log(N)\n",
        "explanation: when we divided number in half then its goes to log(n) times."
      ],
      "metadata": {
        "id": "zDJR95tDiyYI"
      }
    }
  ]
}