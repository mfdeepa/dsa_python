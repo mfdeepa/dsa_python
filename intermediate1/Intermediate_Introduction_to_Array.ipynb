{
  "nbformat": 4,
  "nbformat_minor": 0,
  "metadata": {
    "colab": {
      "provenance": [],
      "authorship_tag": "ABX9TyNUO6G9Tql/BJvbdaquFC+G",
      "include_colab_link": true
    },
    "kernelspec": {
      "name": "python3",
      "display_name": "Python 3"
    },
    "language_info": {
      "name": "python"
    }
  },
  "cells": [
    {
      "cell_type": "markdown",
      "metadata": {
        "id": "view-in-github",
        "colab_type": "text"
      },
      "source": [
        "<a href=\"https://colab.research.google.com/github/mfdeepa/dsa_python/blob/main/intermediate1/Intermediate_Introduction_to_Array.ipynb\" target=\"_parent\"><img src=\"https://colab.research.google.com/assets/colab-badge.svg\" alt=\"Open In Colab\"/></a>"
      ]
    },
    {
      "cell_type": "markdown",
      "source": [
        "CLASS QUESTION"
      ],
      "metadata": {
        "id": "Y0ACbP-Et7Pz"
      }
    },
    {
      "cell_type": "markdown",
      "source": [
        "Q1 : Given an array elements, count no. of elements, having atleast one element greater than itself?\n",
        "\n",
        "ele = [1,2,3,4,3,2,4,8,1,8]"
      ],
      "metadata": {
        "id": "JjYUa6C3vT4j"
      }
    },
    {
      "cell_type": "code",
      "source": [
        "ele = [1,2,3,4,3,2,4,8,1,8]\n",
        "class solution:\n",
        "  def count_element(self, ele):\n",
        "    count = 0\n",
        "    max_ele = ele[0]\n",
        "    n = len(ele)\n",
        "    no_max_ele = 1\n",
        "    for i in range(1,n):\n",
        "      if ele[i] > max_ele:\n",
        "        max_ele = ele[i]\n",
        "        count += no_max_ele\n",
        "        no_max_ele = 1\n",
        "      elif ele[i] < max_ele:\n",
        "        count += 1\n",
        "      else:\n",
        "        no_max_ele += 1\n",
        "    return count\n",
        "\n",
        "if __name__ == '__main__':\n",
        "  A = solution()\n",
        "  ele = [1,2,3,4,3,2,4,8,1,8]\n",
        "  value = A.count_element(ele)\n",
        "  print( value)\n",
        "\n",
        "# TC : O(N) and Sc: O(1)\n"
      ],
      "metadata": {
        "colab": {
          "base_uri": "https://localhost:8080/"
        },
        "id": "4iz5lPZGx5K8",
        "outputId": "8a9b8aaa-fc96-49bc-91b1-9fa5ee4b1b33"
      },
      "execution_count": null,
      "outputs": [
        {
          "output_type": "stream",
          "name": "stdout",
          "text": [
            "8\n"
          ]
        }
      ]
    },
    {
      "cell_type": "markdown",
      "source": [
        "Q2: given an array elements, check if there exists a pair(i,j)\n",
        "such that arr[i]+arr[j] == k and i !=j ?\n",
        "note: indices can not be same but number can be same and i and j are the indices."
      ],
      "metadata": {
        "id": "kYHrojKf2uUY"
      }
    },
    {
      "cell_type": "code",
      "source": [
        "class Solution:\n",
        "  def check_pair(self, arr,k):\n",
        "    n = len(arr)\n",
        "    for i in range(n):\n",
        "      for j in range(i+1,n):\n",
        "        if arr[i] + arr[j] == k:\n",
        "          return True\n",
        "    return False\n",
        "if __name__ == '__main__':\n",
        "  obj = Solution()\n",
        "  arr = [3,-2,1,4,3,6,8]\n",
        "  k = 10\n",
        "  res = obj.check_pair(arr,k)\n",
        "  print(res)\n",
        "# TC: O(N**2) and SC: O(1)"
      ],
      "metadata": {
        "colab": {
          "base_uri": "https://localhost:8080/"
        },
        "id": "ZQ0gHE9C6FO1",
        "outputId": "6da6ab41-4bff-44d9-d87b-fc8c1220391a"
      },
      "execution_count": null,
      "outputs": [
        {
          "output_type": "stream",
          "name": "stdout",
          "text": [
            "False\n"
          ]
        }
      ]
    },
    {
      "cell_type": "code",
      "source": [
        "#another approach of same question 2 with help of dictionary\n",
        "class Solution:\n",
        "  def check_pair(self, arr,k):\n",
        "    n = len(arr)\n",
        "    dict = {}\n",
        "    for i in range(n):\n",
        "      if arr[i] in dict:\n",
        "        dict[arr[i]] += 1\n",
        "      else:\n",
        "        dict[i] = 1\n",
        "    for j in arr:\n",
        "      b = k-j\n",
        "      if b in dict:\n",
        "        if b == j:\n",
        "          if dict[b] > 1:\n",
        "            return True\n",
        "        else:\n",
        "          return True\n",
        "    return False\n",
        "\n",
        "if __name__ == '__main__':\n",
        "  obj = Solution()\n",
        "  arr = [3,-2,1,4,3,6,8]\n",
        "  k = 10\n",
        "  res = obj.check_pair(arr,k)\n",
        "  print(res)\n",
        "  # TC =O(N) , SC = O(N)"
      ],
      "metadata": {
        "colab": {
          "base_uri": "https://localhost:8080/"
        },
        "id": "Lm09OTA_7B2M",
        "outputId": "f17516ac-9a65-46f5-8b21-1cd96baf7ade"
      },
      "execution_count": null,
      "outputs": [
        {
          "output_type": "stream",
          "name": "stdout",
          "text": [
            "True\n"
          ]
        }
      ]
    },
    {
      "cell_type": "code",
      "source": [
        "# another approach to solve the question is set (hashmap)\n",
        "\n",
        "class Solution:\n",
        "  def check_pair(self, arr,k):\n",
        "    n = len(arr)\n",
        "    s = set()\n",
        "    for i in arr:\n",
        "      b = k- i\n",
        "      if b in s:\n",
        "        return True\n",
        "      if i not in s:\n",
        "        s.add(i)\n",
        "    return False\n",
        "\n",
        "if __name__ == '__main__':\n",
        "  obj = Solution()\n",
        "  arr = [3,-2,1,4,3,6,8]\n",
        "  k = 10\n",
        "  res = obj.check_pair(arr,k)\n",
        "  print(res)\n",
        "   # TC =O(N) , SC = O(N)"
      ],
      "metadata": {
        "colab": {
          "base_uri": "https://localhost:8080/"
        },
        "id": "48F_c_yJbiKi",
        "outputId": "86826be8-d18c-4f6f-bb47-dc2bb84ee283"
      },
      "execution_count": null,
      "outputs": [
        {
          "output_type": "stream",
          "name": "stdout",
          "text": [
            "True\n"
          ]
        }
      ]
    },
    {
      "cell_type": "code",
      "source": [
        "# another approach to solve the question with two pointer\n",
        "class Solution:\n",
        "  def check_pair(self, arr,k):\n",
        "    arr.sort() # TC: N(log(N))\n",
        "    n = len(arr)\n",
        "    p1 = 0\n",
        "    p2 = n-1\n",
        "    while p1 < p2:\n",
        "      if arr[p1]+ arr[p2] == k:\n",
        "        return True\n",
        "      elif arr[p1] + arr[p2] > k:\n",
        "        p2-=1\n",
        "      else:\n",
        "        p1 += 1\n",
        "\n",
        "\n",
        "if __name__ == '__main__':\n",
        "  obj = Solution()\n",
        "  arr = [3,-2,1,4,3,6,8]\n",
        "  k = 10\n",
        "  res = obj.check_pair(arr,k)\n",
        "  print(res)\n",
        "  # TC = N(log(n)) and SC  = O(1)"
      ],
      "metadata": {
        "colab": {
          "base_uri": "https://localhost:8080/"
        },
        "id": "v2J8D7oD1-u-",
        "outputId": "2b4a678c-8212-4202-86e5-8fc043666e1f"
      },
      "execution_count": null,
      "outputs": [
        {
          "output_type": "stream",
          "name": "stdout",
          "text": [
            "True\n"
          ]
        }
      ]
    },
    {
      "cell_type": "markdown",
      "source": [
        "Q : 3 Reverse in a range\n",
        "Given an array A of N integers and also given two integers B and C. Reverse the elements of the array A within the given inclusive range [B, C]."
      ],
      "metadata": {
        "id": "CtGAS0QC4NTe"
      }
    },
    {
      "cell_type": "code",
      "source": [
        "class Solution:\n",
        "  def solve(self, A, B, C):\n",
        "    n = len(A)\n",
        "    stat_index = B\n",
        "    end_index  = C\n",
        "    while stat_index < end_index:\n",
        "        A[stat_index],A[end_index] = A[end_index],A[stat_index]\n",
        "        stat_index += 1\n",
        "        end_index -= 1\n",
        "    return A\n",
        "\n",
        "if __name__ == \"__main__\":\n",
        "  obj = Solution()\n",
        "  A = [1, 2, 3, 4]\n",
        "  B = 1\n",
        "  C = 3\n",
        "  res = obj.solve(A,B,C)\n",
        "  print(res)\n"
      ],
      "metadata": {
        "colab": {
          "base_uri": "https://localhost:8080/"
        },
        "id": "Rnygp4o8DkSI",
        "outputId": "1eb9c287-1911-4a56-8552-054924568c50"
      },
      "execution_count": null,
      "outputs": [
        {
          "output_type": "stream",
          "name": "stdout",
          "text": [
            "[1, 4, 3, 2]\n"
          ]
        }
      ]
    },
    {
      "cell_type": "markdown",
      "source": [
        "Q4. Reverse the Array\n",
        "You are given a constant array A.\n",
        "\n",
        "You are required to return another array which is the reversed form of the input array."
      ],
      "metadata": {
        "id": "wWUWd7tRKZZ3"
      }
    },
    {
      "cell_type": "code",
      "source": [
        "class Solution:\n",
        "  def solve(self,A):\n",
        "    n = len(A)\n",
        "    start = 0\n",
        "    end = n-1\n",
        "    while start < end:\n",
        "      A[start],A[end] = A[end], A[start]\n",
        "      start += 1\n",
        "      end -= 1\n",
        "    return A\n",
        "\n",
        "if __name__ == \"__main__\":\n",
        "  obj = Solution()\n",
        "  A = [1,2,3,10]\n",
        "  res = obj.solve(A)\n",
        "  print(res)"
      ],
      "metadata": {
        "colab": {
          "base_uri": "https://localhost:8080/"
        },
        "id": "vMUxCdRYL5zr",
        "outputId": "9d5f10de-b20a-43f5-ad78-3e18fa122e3f"
      },
      "execution_count": null,
      "outputs": [
        {
          "output_type": "stream",
          "name": "stdout",
          "text": [
            "[10, 3, 2, 1]\n"
          ]
        }
      ]
    },
    {
      "cell_type": "markdown",
      "source": [
        "Q5. Array Rotation\n",
        "Given an integer array A of size N and an integer B, you have to return the same array after rotating it B times towards the right."
      ],
      "metadata": {
        "id": "n_kPGbjIOgZd"
      }
    },
    {
      "cell_type": "code",
      "source": [
        "class Solution:\n",
        "  def reverse(self,A,p1,p2):\n",
        "    while p1 <p2:\n",
        "      A[p1],A[p2] = A[p2],A[p1]\n",
        "      p1 += 1\n",
        "      p2 -= 1\n",
        "    return A\n",
        "\n",
        "  def solve(self,A,B):\n",
        "    n = len(A)\n",
        "    B = B% n\n",
        "    A = self.reverse(A,0,n-1)\n",
        "    A = self.reverse(A,0,B-1)\n",
        "    A = self.reverse(A,B,n-1)\n",
        "    return A\n",
        "\n",
        "if __name__ == \"__main__\":\n",
        "  obj = Solution()\n",
        "  A = [1,2,3,4]\n",
        "  B = 2\n",
        "  res = obj.solve(A,B)\n",
        "  print(res)"
      ],
      "metadata": {
        "colab": {
          "base_uri": "https://localhost:8080/"
        },
        "id": "bjiIrxgzOi4m",
        "outputId": "f4478240-b1be-4329-b655-82d2287927b2"
      },
      "execution_count": null,
      "outputs": [
        {
          "output_type": "stream",
          "name": "stdout",
          "text": [
            "[3, 4, 1, 2]\n"
          ]
        }
      ]
    },
    {
      "cell_type": "markdown",
      "source": [
        "Q6. Time Complexity - Arrays\n",
        "What is the time complexity for inserting/deleting at the beginning of the array\n",
        "\n",
        "Ans: O(N)"
      ],
      "metadata": {
        "id": "z1Y5leKvUix2"
      }
    },
    {
      "cell_type": "markdown",
      "source": [
        "Q: 7 Max Min of an Array\n",
        "Given an array A of size N. You need to find the sum of Maximum and Minimum element in the given array."
      ],
      "metadata": {
        "id": "ZfS5rJz8Uyeh"
      }
    },
    {
      "cell_type": "code",
      "source": [
        "class Solution:\n",
        "  def solve(self,A):\n",
        "    n = len(A)\n",
        "    maximum = A[0]\n",
        "    minimum = A[0]\n",
        "    for i in range(1,n):\n",
        "      if A[i] > maximum:\n",
        "        maximum = A[i]\n",
        "      elif A[i] < minimum:\n",
        "        minimum = A[i]\n",
        "    return maximum+minimum\n",
        "\n",
        "if __name__ == \"__main__\":\n",
        "  obj = Solution()\n",
        "  A = [-2, 1, -4, 5, 3]\n",
        "  res = obj.solve(A)\n",
        "  print(res)\n"
      ],
      "metadata": {
        "colab": {
          "base_uri": "https://localhost:8080/"
        },
        "id": "a1INIO4GU5N6",
        "outputId": "d04557d0-92d3-41ea-eb2a-a1199f141208"
      },
      "execution_count": null,
      "outputs": [
        {
          "output_type": "stream",
          "name": "stdout",
          "text": [
            "1\n"
          ]
        }
      ]
    },
    {
      "cell_type": "markdown",
      "source": [
        "Q : 8 Second largest\n",
        "You are given an integer array A. You have to find the second largest element/value in the array or report that no such element exists."
      ],
      "metadata": {
        "id": "rQM-XVkVXot_"
      }
    },
    {
      "cell_type": "code",
      "source": [
        "class Solution:\n",
        "  def solve(self,A):\n",
        "    n = len(A)\n",
        "    first_max = A[0]\n",
        "    sec_max = -1\n",
        "    for i in range(1,n):\n",
        "      if A[i] > first_max:\n",
        "        sec_max = first_max\n",
        "        first_max = A[i]\n",
        "      elif A[i] < first_max:\n",
        "        if A[i] > sec_max:\n",
        "          sec_max = A[i]\n",
        "    return sec_max\n",
        "\n",
        "if __name__ == \"__main__\":\n",
        "  obj = Solution()\n",
        "  A = [2, 1, 2]\n",
        "  res = obj.solve(A)\n",
        "  print(res)"
      ],
      "metadata": {
        "colab": {
          "base_uri": "https://localhost:8080/"
        },
        "id": "VszF5UDdeN7f",
        "outputId": "6fd67874-e789-47cb-d66c-e37c30018d7a"
      },
      "execution_count": null,
      "outputs": [
        {
          "output_type": "stream",
          "name": "stdout",
          "text": [
            "1\n"
          ]
        }
      ]
    },
    {
      "cell_type": "markdown",
      "source": [
        "Q: 9 Range Sum Query - II\n",
        "You are given an integer array A of length N.\n",
        " You are also given a 2D integer array B with dimensions M x 2, where each row denotes a [L, R] query.\n",
        " For each query, you have to find the sum of all elements from L to R indices in A (0 - indexed).\n",
        " More formally, find A[L] + A[L + 1] + A[L + 2] +... + A[R - 1] + A[R] for each query."
      ],
      "metadata": {
        "id": "8oaeYA4pjBL7"
      }
    },
    {
      "cell_type": "code",
      "source": [
        "class Solution:\n",
        "  def solve(self, A, B):\n",
        "        n = len(A)\n",
        "        prefix_sum = []\n",
        "        add = 0\n",
        "        for i in range(n):\n",
        "            add += A[i]\n",
        "            prefix_sum.append(add)\n",
        "        res = []\n",
        "        for i in range(len(B)):\n",
        "            start = B[i][0]\n",
        "            end = B[i][1]\n",
        "            if start == 0:\n",
        "                value = prefix_sum[end]\n",
        "            else:\n",
        "                value = prefix_sum[end] - prefix_sum[start-1]\n",
        "\n",
        "            res.append(value)\n",
        "        return res\n",
        "if __name__ == \"__main__\":\n",
        "  obj = Solution()\n",
        "  A = [1, 2, 3, 4, 5]\n",
        "  B = [[0, 3], [1, 2]]\n",
        "  res = obj.solve(A,B)\n",
        "  print(res)\n"
      ],
      "metadata": {
        "colab": {
          "base_uri": "https://localhost:8080/"
        },
        "id": "g404OXK4jJBq",
        "outputId": "ff79c5ff-87d7-456c-8bcd-18c3aa2f5573"
      },
      "execution_count": null,
      "outputs": [
        {
          "output_type": "stream",
          "name": "stdout",
          "text": [
            "[10, 5]\n"
          ]
        }
      ]
    },
    {
      "cell_type": "markdown",
      "source": [
        "Q 10: Time to equality\n",
        "Given an integer array A of size N. In one second, you can increase the value of one element by 1.\n",
        "\n",
        "Find the minimum time in seconds to make all elements of the array equal."
      ],
      "metadata": {
        "id": "H6gAPcSsvRxv"
      }
    },
    {
      "cell_type": "code",
      "source": [
        "class Solution:\n",
        "  def solve(self, A):\n",
        "        maximum = A[0]\n",
        "        n = len(A)\n",
        "        for i in range(1,n):\n",
        "            if A[i] > maximum:\n",
        "                maximum = A[i]\n",
        "        count = 0\n",
        "        for i in range(n):\n",
        "            if A[i] == maximum:\n",
        "                continue\n",
        "            else:\n",
        "                count += maximum-A[i]\n",
        "        return count\n",
        "if __name__ == \"__main__\":\n",
        "  obj = Solution()\n",
        "  A = [2, 4, 1, 3, 2]\n",
        "  res = obj.solve(A)\n",
        "  print(res)"
      ],
      "metadata": {
        "colab": {
          "base_uri": "https://localhost:8080/"
        },
        "id": "3unftRdpvWaB",
        "outputId": "a139f1ad-b4e8-4fcd-9b9c-38b13971a063"
      },
      "execution_count": null,
      "outputs": [
        {
          "output_type": "stream",
          "name": "stdout",
          "text": [
            "8\n"
          ]
        }
      ]
    },
    {
      "cell_type": "markdown",
      "source": [
        "Q: 11 Problems on 1D Arrays-2 MCQ D\n",
        "class Main {\n",
        "   static void fun(int[]arr) {\n",
        "       arr[3] = 98;\n",
        "       return;\n",
        "   }\n",
        "\n",
        "   public static void main(String args[]) {\n",
        "       int[]arr = {10,20,30,40,50};\n",
        "       fun(arr);\n",
        "       System.out.println(arr[3]);\n",
        "   }\n",
        "}\n",
        "\n",
        "output : 98"
      ],
      "metadata": {
        "id": "ks1kdCsxvpb_"
      }
    },
    {
      "cell_type": "markdown",
      "source": [],
      "metadata": {
        "id": "zvzw8GyNwHxA"
      }
    },
    {
      "cell_type": "markdown",
      "source": [],
      "metadata": {
        "id": "QLAhYjtLwH0d"
      }
    },
    {
      "cell_type": "code",
      "source": [],
      "metadata": {
        "id": "pR0BcdE-wF7q"
      },
      "execution_count": null,
      "outputs": []
    }
  ]
}