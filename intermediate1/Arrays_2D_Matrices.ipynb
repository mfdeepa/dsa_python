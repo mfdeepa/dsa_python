{
  "nbformat": 4,
  "nbformat_minor": 0,
  "metadata": {
    "colab": {
      "provenance": [],
      "authorship_tag": "ABX9TyMnYmoW2Rd/qLZWVdxk0czQ",
      "include_colab_link": true
    },
    "kernelspec": {
      "name": "python3",
      "display_name": "Python 3"
    },
    "language_info": {
      "name": "python"
    }
  },
  "cells": [
    {
      "cell_type": "markdown",
      "metadata": {
        "id": "view-in-github",
        "colab_type": "text"
      },
      "source": [
        "<a href=\"https://colab.research.google.com/github/mfdeepa/dsa_python/blob/main/intermediate1/Arrays_2D_Matrices.ipynb\" target=\"_parent\"><img src=\"https://colab.research.google.com/assets/colab-badge.svg\" alt=\"Open In Colab\"/></a>"
      ]
    },
    {
      "cell_type": "markdown",
      "source": [
        "Q1 : Column Sum\n",
        "You are given a 2D integer matrix A, return a 1D integer array containing column-wise sums of original matrix.\n",
        "input:\n",
        "[1,2,3,4]\n",
        "[5,6,7,8]\n",
        "[9,2,3,4]\n",
        "explanation : Column 1 = 1+5+9 = 15\n",
        "Column 2 = 2+6+2 = 10\n",
        "Column 3 = 3+7+3 = 13\n",
        "Column 4 = 4+8+4 = 16"
      ],
      "metadata": {
        "id": "ZpPE8WmTWhhh"
      }
    },
    {
      "cell_type": "code",
      "source": [
        "class Solution:\n",
        "      def solve(self, A):\n",
        "        n = len(A)\n",
        "        m = len(A[0])\n",
        "        res = []\n",
        "        for i in range(m):\n",
        "            add = 0\n",
        "            for j in range(n):\n",
        "                add += A[j][i]\n",
        "            res.append(add)\n",
        "        return res\n",
        "if __name__ == \"__main__\":\n",
        "  obj = Solution()\n",
        "  A = [[1,2,3,4],[5,6,7,8],[9,2,3,4]]\n",
        "  res = obj.solve(A)\n",
        "  print(res)"
      ],
      "metadata": {
        "colab": {
          "base_uri": "https://localhost:8080/"
        },
        "id": "-SSb7p8eYAEU",
        "outputId": "3c51bab1-fc3e-4c74-9cce-4afeaf932dc4"
      },
      "execution_count": null,
      "outputs": [
        {
          "output_type": "stream",
          "name": "stdout",
          "text": [
            "[15, 10, 13, 16]\n"
          ]
        }
      ]
    },
    {
      "cell_type": "markdown",
      "source": [
        "Q2. Row Sum\n",
        "First argument A is a 2D array of integers.(2D matrix).\n",
        "input ;[1,2,3,4]\n",
        "[5,6,7,8]\n",
        "[9,2,3,4]\n",
        "explanation: Row 1 = 1+2+3+4 = 10\n",
        "Row 2 = 5+6+7+8 = 26\n",
        "Row 3 = 9+2+3+4 = 18\n"
      ],
      "metadata": {
        "id": "HhBqJb0GYedC"
      }
    },
    {
      "cell_type": "code",
      "source": [
        "class Solution:\n",
        "      def solve(self, A):\n",
        "        n = len(A)\n",
        "        m = len(A[0])\n",
        "        res = []\n",
        "        for i in range(n):\n",
        "            add = 0\n",
        "            for j in range(m):\n",
        "                add += A[i][j]\n",
        "            res.append(add)\n",
        "        return res\n",
        "if __name__ == \"__main__\":\n",
        "  obj = Solution()\n",
        "  A = [[1,2,3,4],[5,6,7,8],[9,2,3,4]]\n",
        "  res = obj.solve(A)\n",
        "  print(res)"
      ],
      "metadata": {
        "colab": {
          "base_uri": "https://localhost:8080/"
        },
        "id": "mjkdh5y-YuWs",
        "outputId": "9df2fd64-a5dc-4f52-cc7f-36d24bbedd1c"
      },
      "execution_count": null,
      "outputs": [
        {
          "output_type": "stream",
          "name": "stdout",
          "text": [
            "[10, 26, 18]\n"
          ]
        }
      ]
    },
    {
      "cell_type": "markdown",
      "source": [
        "Q3. Main Diagonal Sum\n",
        "You are given a N X N integer matrix. You have to find the sum of all the main diagonal elements of A.\n",
        "Main diagonal of a matrix A is a collection of elements A[i, j] such that i = j.\n",
        "input: 3 3 [[1 -2 -3], [-4 5 -6], [-7 -8 9]]\n",
        "Explanation: The size of matrix is 3.\n",
        "So, considering the indexing from 0.\n",
        "Main diagonal elements will be A[0][0], A[1][1] and A[2][2]\n",
        "A[1][1] + A[2][2] + A[3][3] = 1 + 5 + 9 = 15"
      ],
      "metadata": {
        "id": "KU1RFSMaZQ96"
      }
    },
    {
      "cell_type": "code",
      "source": [
        "class Solution:\n",
        "      def solve(self, A):\n",
        "        n = len(A)\n",
        "        m = len(A[0])\n",
        "        i = 0\n",
        "        j  = 0\n",
        "        add = 0\n",
        "        while i< n and j < m :\n",
        "            add += A[i][j]\n",
        "            i += 1\n",
        "            j += 1\n",
        "        return add\n",
        "if __name__ == \"__main__\":\n",
        "  obj = Solution()\n",
        "  A = [[1,-2, -3], [-4, 5, -6], [-7, -8, 9]]\n",
        "  res = obj.solve(A)\n",
        "  print(res)\n"
      ],
      "metadata": {
        "colab": {
          "base_uri": "https://localhost:8080/"
        },
        "id": "0agNlyVKbS0R",
        "outputId": "adb19ce7-ce3d-41e6-9a1f-e89d070922b1"
      },
      "execution_count": null,
      "outputs": [
        {
          "output_type": "stream",
          "name": "stdout",
          "text": [
            "15\n"
          ]
        }
      ]
    },
    {
      "cell_type": "markdown",
      "source": [
        "Q4. Minor Diagonal Sum\n",
        "Problem Description\n",
        "You are given a N X N integer matrix. You have to find the sum of all the minor diagonal elements of A.\n",
        "\n",
        "Minor diagonal of a M X M matrix A is a collection of elements A[i, j] such that i + j = M + 1 (where i, j are 1-based).\n",
        "input:  A = [[1, -2, -3],\n",
        "      [-4, 5, -6],\n",
        "      [-7, -8, 9]]\n",
        "\n",
        "explanation: A[1][3] + A[2][2] + A[3][1] = (-3) + 5 + (-7) = -5\n"
      ],
      "metadata": {
        "id": "65_-paiPbucm"
      }
    },
    {
      "cell_type": "code",
      "source": [
        "class Solution:\n",
        "      def solve(self, A):\n",
        "        n = len(A)\n",
        "        m = len(A[0])\n",
        "        add = 0\n",
        "        i = 0\n",
        "        j = m-1\n",
        "        while i < n and j >=0:\n",
        "            add += A[i][j]\n",
        "            i += 1\n",
        "            j -= 1\n",
        "        return add\n",
        "if __name__ == \"__main__\":\n",
        "  obj = Solution()\n",
        "  A = [[1, -2, -3],[-4, 5, -6],[-7, -8, 9]]\n",
        "  res = obj.solve(A)\n",
        "  print(res)"
      ],
      "metadata": {
        "colab": {
          "base_uri": "https://localhost:8080/"
        },
        "id": "K22OLjVFZlE1",
        "outputId": "bb313488-0b0b-41af-f47c-33cf30e0d679"
      },
      "execution_count": null,
      "outputs": [
        {
          "output_type": "stream",
          "name": "stdout",
          "text": [
            "-5\n"
          ]
        }
      ]
    },
    {
      "cell_type": "markdown",
      "source": [
        "Q5. Anti Diagonals\n",
        "Problem Description\n",
        "Give a N * N square matrix A, return an array of its anti-diagonals. Look at the example for more details.\n",
        "input:\n",
        "1 2 3\n",
        "4 5 6\n",
        "7 8 9\n",
        "output\n",
        "1 0 0\n",
        "2 4 0\n",
        "3 5 7\n",
        "6 8 0\n",
        "9 0 0"
      ],
      "metadata": {
        "id": "TCbDRHqbda7K"
      }
    },
    {
      "cell_type": "code",
      "source": [
        "class Solution:\n",
        "  def diagonal(self, A):\n",
        "        n = len(A)\n",
        "        result = []\n",
        "        for i in range(n):\n",
        "            row = 0\n",
        "            col = i\n",
        "            res = []\n",
        "            while row < n and col >= 0:\n",
        "                val = A[row][col]\n",
        "                res.append(val)\n",
        "                row += 1\n",
        "                col -= 1\n",
        "            result.append(res)\n",
        "            for k in range(n):\n",
        "                if len(res) <n:\n",
        "                    res.append(0)\n",
        "\n",
        "        for j in range(1,n):\n",
        "            row = j\n",
        "            col = n-1\n",
        "            res = []\n",
        "            while row < n and col >=0:\n",
        "                val = A[row][col]\n",
        "                res.append(val)\n",
        "                row += 1\n",
        "                col -= 1\n",
        "            result.append(res)\n",
        "            for k in range(n):\n",
        "                if len(res) < n:\n",
        "                    res.append(0)\n",
        "        return result\n",
        "if __name__ == \"__main__\":\n",
        "  obj = Solution()\n",
        "  A = [[1, 2, 3],[4, 5, 6],[7, 8, 9]]\n",
        "  res = obj.diagonal(A)\n",
        "  print(res)"
      ],
      "metadata": {
        "colab": {
          "base_uri": "https://localhost:8080/"
        },
        "id": "GFHKY4qUdn_s",
        "outputId": "aa8509af-a003-4b53-c068-2f61493749db"
      },
      "execution_count": null,
      "outputs": [
        {
          "output_type": "stream",
          "name": "stdout",
          "text": [
            "[[1, 0, 0], [2, 4, 0], [3, 5, 7], [6, 8, 0], [9, 0, 0]]\n"
          ]
        }
      ]
    },
    {
      "cell_type": "markdown",
      "source": [
        "Q6. Matrix Transpose\n",
        "Problem Description\n",
        "Given a 2D integer array A, return the transpose of A.\n",
        "\n",
        "The transpose of a matrix is the matrix flipped over its main diagonal, switching the matrix's row and column indices.\n",
        "A = [[1, 2, 3],[4, 5, 6],[7, 8, 9]]\n",
        "explanation1: Clearly after converting rows to column and columns to rows of [[1, 2, 3],[4, 5, 6],[7, 8, 9]]\n",
        " we will get [[1, 4, 7], [2, 5, 8], [3, 6, 9]]."
      ],
      "metadata": {
        "id": "XbuElmdkoj06"
      }
    },
    {
      "cell_type": "code",
      "source": [
        "class Solution:\n",
        "      def solve(self, A):\n",
        "        n = len(A)\n",
        "        m = len(A[0])\n",
        "        result = []\n",
        "        for i in range(m):\n",
        "            res = []\n",
        "            for j in range(n):\n",
        "                val = A[j][i]\n",
        "                res.append(val)\n",
        "            result.append(res)\n",
        "        return result\n",
        "if __name__ == \"__main__\":\n",
        "  obj = Solution()\n",
        "  A = [[1, 2, 3],[4, 5, 6],[7, 8, 9]]\n",
        "  res = obj.solve(A)\n",
        "  print(res)"
      ],
      "metadata": {
        "colab": {
          "base_uri": "https://localhost:8080/"
        },
        "id": "rt5KOhWfpc8C",
        "outputId": "0cd2b72a-51da-4e66-b2ff-c2a2ca7dbecc"
      },
      "execution_count": null,
      "outputs": [
        {
          "output_type": "stream",
          "name": "stdout",
          "text": [
            "[[1, 4, 7], [2, 5, 8], [3, 6, 9]]\n"
          ]
        }
      ]
    },
    {
      "cell_type": "markdown",
      "source": [
        "Q7. Rotate Matrix\n",
        "Problem Description\n",
        "You are given a n x n 2D matrix A representing an image.\n",
        "\n",
        "Rotate the image by 90 degrees (clockwise).\n",
        "\n",
        "You need to do this in place.\n",
        "\n",
        "Note: If you end up using an additional array, you will only receive partial score.\n",
        "input:  [\n",
        "    [1, 2],\n",
        "    [3, 4]\n",
        " ]\n",
        " Explanation:  After rotating the matrix by 90 degree:\n",
        " 1 goes to 2, 2 goes to 4\n",
        " 4 goes to 3, 3 goes to 1"
      ],
      "metadata": {
        "id": "8-kYJb6rr94H"
      }
    },
    {
      "cell_type": "code",
      "source": [
        "class Solution:\n",
        "    def transpose(self,A):\n",
        "      n = len(A)\n",
        "      for i in range(n):\n",
        "          for j in range(i+1,n):\n",
        "              A[i][j], A[j][i] = A[j][i], A[i][j]\n",
        "      return A\n",
        "    def solve(self, A):\n",
        "        n = len(A)\n",
        "        A = self.transpose(A)\n",
        "        for i in range(n):\n",
        "            start = 0\n",
        "            end = n-1\n",
        "            while start < end:\n",
        "                A[i][start], A[i][end] = A[i][end], A[i][start]\n",
        "                start += 1\n",
        "                end -= 1\n",
        "        return A\n",
        "if __name__ == \"__main__\":\n",
        "  obj = Solution()\n",
        "  A = [[1, 2, 3],[4, 5, 6],[7, 8, 9]]\n",
        "  res = obj.solve(A)\n",
        "  print(res)\n",
        "\n",
        "# TC = O(N^2) AND SC = O(1)"
      ],
      "metadata": {
        "colab": {
          "base_uri": "https://localhost:8080/"
        },
        "id": "8StLerzOE-SX",
        "outputId": "da637a43-fbac-4147-9c0e-ceeb429e2c57"
      },
      "execution_count": null,
      "outputs": [
        {
          "output_type": "stream",
          "name": "stdout",
          "text": [
            "[[7, 4, 1], [8, 5, 2], [9, 6, 3]]\n"
          ]
        }
      ]
    },
    {
      "cell_type": "markdown",
      "source": [
        "Q 8:  Matrix Scalar Product\n",
        "Problem Description\n",
        "You are given a matrix A and and an integer B, you have to perform scalar multiplication of matrix A with an integer B.\n",
        "input:\n",
        "A = [[1, 2, 3],\n",
        "     [4, 5, 6],\n",
        "     [7, 8, 9]]\n",
        "B = 2\n",
        "explanation: ==> ( [[1, 2, 3],[4, 5, 6],[7, 8, 9]] ) * 2\n",
        "\n",
        "==> [[2*1, 2*2, 2*3],\n",
        "     [2*4, 2*5, 2*6],\n",
        "     [2*7, 2*8, 2*9]]\n",
        "\n",
        "==> [[2,   4,  6],\n",
        "     [8,  10, 12],\n",
        "     [14, 16, 18]]"
      ],
      "metadata": {
        "id": "QbgEc8g1EJs9"
      }
    },
    {
      "cell_type": "code",
      "source": [
        "class Solution:\n",
        "  def solve(self, A, B):\n",
        "        n = len(A)\n",
        "        m = len(A[0])\n",
        "        for i in range(n):\n",
        "            for j in range(m):\n",
        "                A[i][j] = B*A[i][j]\n",
        "        return A\n",
        "if __name__ == \"__main__\":\n",
        "  obj = Solution()\n",
        "  A = [[1, 2, 3],[4, 5, 6],[7, 8, 9]]\n",
        "  B = 2\n",
        "  res = obj.solve(A,B)\n",
        "  print(res)\n",
        "\n",
        "# TC = O(N^2) AND SC = O(1)"
      ],
      "metadata": {
        "colab": {
          "base_uri": "https://localhost:8080/"
        },
        "id": "93WxAzeAFksu",
        "outputId": "30581e54-74de-4945-d663-b16d63ac2ab4"
      },
      "execution_count": null,
      "outputs": [
        {
          "output_type": "stream",
          "name": "stdout",
          "text": [
            "[[2, 4, 6], [8, 10, 12], [14, 16, 18]]\n"
          ]
        }
      ]
    },
    {
      "cell_type": "markdown",
      "source": [
        "Q9: Are Matrices Same ?\n",
        "You are given two matrices A and B of equal dimensions and you have to check whether two matrices are equal or not.\n",
        "\n",
        "NOTE: Both matrices are equal if A[i][j] == B[i][j] for all i and j.\n",
        "A = [[1, 2, 3],\n",
        "     [4, 5, 6],\n",
        "     [7, 8, 9]]\n",
        "B = [[1, 2, 3],\n",
        "     [7, 8, 9],\n",
        "     [4, 5, 6]]\n",
        "\n",
        "Return 1 if both matrices are equal or return 0.\n",
        "\n",
        "Explnation: ==> Clearly, there are mismatches at (1, 0), (1, 1), (1, 2), (2, 0), (2, 1) and (2, 2).\n",
        "A = [[1, 2, 3],\n",
        "     [4, 5, 6],\n",
        "     [7, 8, 9]]\n",
        "B = [[1, 2, 3],\n",
        "     [7, 8, 9],\n",
        "     [4, 5, 6]]"
      ],
      "metadata": {
        "id": "02rR24QbGbTR"
      }
    },
    {
      "cell_type": "code",
      "source": [
        "class Solution:\n",
        "      def solve(self, A, B):\n",
        "        n = len(A)\n",
        "        m = len(A[0])\n",
        "        for i in range(n):\n",
        "            for j in range(m):\n",
        "                if A[i][j] != B[i][j]:\n",
        "                    return 0\n",
        "        return 1\n",
        "if __name__ == \"__main__\":\n",
        "  obj = Solution()\n",
        "  A = [[1, 2, 3],[4, 5, 6],[7, 8, 9]]\n",
        "  B = [[1,2,3],[7,8,9],[4,5,6]]\n",
        "  res = obj.solve(A,B)\n",
        "  print(res)\n",
        "\n",
        "# TC = O(N^2) AND SC = O(1)"
      ],
      "metadata": {
        "colab": {
          "base_uri": "https://localhost:8080/"
        },
        "id": "clHHs39iGseA",
        "outputId": "d97a01d9-dc48-4f52-c48f-a3ae7414efb9"
      },
      "execution_count": null,
      "outputs": [
        {
          "output_type": "stream",
          "name": "stdout",
          "text": [
            "0\n"
          ]
        }
      ]
    },
    {
      "cell_type": "markdown",
      "source": [
        "Q 10: Add the matrices\n",
        "You are given two matrices A & B of same size, you have to return another matrix which is the sum of A and B.\n",
        "Note: Matrices are of same size means the number of rows and number of columns of both matrices are equal.\n",
        "\n",
        "The Following will give you an idea of matrix addition:\n",
        "input format: The first argument is the 2D integer array A The second argument is the 2D integer array B\n",
        "A = [[1, 2, 3],   \n",
        "     [4, 5, 6],   \n",
        "     [7, 8, 9]]  \n",
        "\n",
        "B = [[9, 8, 7],   \n",
        "     [6, 5, 4],   \n",
        "     [3, 2, 1]]\n",
        "Explanation: A + B = [[1+9, 2+8, 3+7],  \n",
        "         [4+6, 5+5, 6+4],  \n",
        "         [7+3, 8+2, 9+1]]   \n",
        "      = [[10, 10, 10],   \n",
        "         [10, 10, 10],   \n",
        "         [10, 10, 10]]."
      ],
      "metadata": {
        "id": "p10zZb6gHf3b"
      }
    },
    {
      "cell_type": "code",
      "source": [
        "class Solution:\n",
        "      def solve(self, A, B):\n",
        "        n = len(A)\n",
        "        m = len(A[0])\n",
        "        res = []\n",
        "        for i in range(n):\n",
        "            val = []\n",
        "            for j in range(m):\n",
        "                add = A[i][j] + B[i][j]\n",
        "                val.append(add)\n",
        "            res.append(val)\n",
        "        return res\n",
        "if __name__ == \"__main__\":\n",
        "  obj = Solution()\n",
        "  A = [[1, 2, 3],[4, 5, 6],[7, 8, 9]]\n",
        "  B = [[1,2,3],[7,8,9],[4,5,6]]\n",
        "  res = obj.solve(A,B)\n",
        "  print(res)"
      ],
      "metadata": {
        "colab": {
          "base_uri": "https://localhost:8080/"
        },
        "id": "dxcVscyLIu8z",
        "outputId": "a3b09213-1e6a-4c24-c925-0179fabead5b"
      },
      "execution_count": null,
      "outputs": [
        {
          "output_type": "stream",
          "name": "stdout",
          "text": [
            "[[2, 4, 6], [11, 13, 15], [11, 13, 15]]\n"
          ]
        }
      ]
    },
    {
      "cell_type": "markdown",
      "source": [
        "Q 11: Matrix Subtraction\n",
        "You are given two integer matrices A and B having same size(Both having same number of rows (N) and columns (M). You have to subtract matrix B from A and return the resultant matrix. (i.e. return the matrix A - B).\n",
        "\n",
        "If A and B are two matrices of the same order (same dimensions). Then A - B is a matrix of the same order as A and B and its elements are obtained by doing an element wise subtraction of A from B.\n",
        "A = [[1, 1]]\n",
        "\n",
        "B = [[2, 3]]\n",
        "explanation:  [[1, 1]] - [[2, 3]] = [[1 - 2, 1 - 3]] = [[-1, -2]]"
      ],
      "metadata": {
        "id": "dUKth4q0IuIS"
      }
    },
    {
      "cell_type": "code",
      "source": [
        "class Solution:\n",
        "      def solve(self, A, B):\n",
        "        n = len(A)\n",
        "        m = len(A[0])\n",
        "        res = []\n",
        "        for i in range(n):\n",
        "            val = []\n",
        "            for j in range(m):\n",
        "                sub = A[i][j] - B[i][j]\n",
        "                val.append(sub)\n",
        "            res.append(val)\n",
        "        return res\n",
        "if __name__ == \"__main__\":\n",
        "  obj = Solution()\n",
        "  A = [[1, 2, 3],[4, 5, 6],[7, 8, 9]]\n",
        "  B = [[1,2,3],[7,8,9],[4,5,6]]\n",
        "  res = obj.solve(A,B)\n",
        "  print(res)"
      ],
      "metadata": {
        "colab": {
          "base_uri": "https://localhost:8080/"
        },
        "id": "a6NfO3wkJKMA",
        "outputId": "a4847c3c-c7b4-4efe-fa2f-3cca48fb5f7a"
      },
      "execution_count": null,
      "outputs": [
        {
          "output_type": "stream",
          "name": "stdout",
          "text": [
            "[[0, 0, 0], [-3, -3, -3], [3, 3, 3]]\n"
          ]
        }
      ]
    },
    {
      "cell_type": "markdown",
      "source": [
        "Q 12: Row to Column Zero\n",
        "You are given a 2D integer matrix A, make all the elements in a row or column zero if the A[i][j] = 0. Specifically, make entire ith row and jth column zero.\n",
        "input:\n",
        "[1,2,3,4]\n",
        "[5,6,7,0]\n",
        "[9,2,0,4]\n",
        "Explanation:A[2][4] = A[3][3] = 0, so make 2nd row, 3rd row, 3rd column and 4th column zero."
      ],
      "metadata": {
        "id": "R1uq4MGvKDBk"
      }
    },
    {
      "cell_type": "code",
      "source": [
        "class Solution:\n",
        "  def solve(self, A):\n",
        "        n = len(A)\n",
        "        m = len(A[0])\n",
        "        row = {}\n",
        "        col = {}\n",
        "        for i in range(n):\n",
        "            for j in range(m):\n",
        "                if A[i][j] == 0:\n",
        "                    row[i] = True\n",
        "                    col[j] = True\n",
        "\n",
        "        for i in range(n):\n",
        "            for j in range(m):\n",
        "                if i in row:\n",
        "                    A[i][j] = 0\n",
        "                if j in col:\n",
        "                    A[i][j] = 0\n",
        "        return A\n",
        "if __name__ == \"__main__\":\n",
        "  obj = Solution()\n",
        "  A = [[1,2,3,4],[5,6,7,0],[9,2,0,4]]\n",
        "  res = obj.solve(A)\n",
        "  print(res)"
      ],
      "metadata": {
        "colab": {
          "base_uri": "https://localhost:8080/"
        },
        "id": "Ix66V0NRKPfI",
        "outputId": "1883583f-ac02-4756-edf4-8a0383b4d9c2"
      },
      "execution_count": null,
      "outputs": [
        {
          "output_type": "stream",
          "name": "stdout",
          "text": [
            "[[1, 2, 0, 0], [0, 0, 0, 0], [0, 0, 0, 0]]\n"
          ]
        }
      ]
    }
  ]
}