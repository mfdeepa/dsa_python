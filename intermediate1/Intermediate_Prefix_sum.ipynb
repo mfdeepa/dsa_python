{
  "nbformat": 4,
  "nbformat_minor": 0,
  "metadata": {
    "colab": {
      "provenance": [],
      "authorship_tag": "ABX9TyMudigsY3dHXO+D9jnXt4V9",
      "include_colab_link": true
    },
    "kernelspec": {
      "name": "python3",
      "display_name": "Python 3"
    },
    "language_info": {
      "name": "python"
    }
  },
  "cells": [
    {
      "cell_type": "markdown",
      "metadata": {
        "id": "view-in-github",
        "colab_type": "text"
      },
      "source": [
        "<a href=\"https://colab.research.google.com/github/mfdeepa/dsa_python/blob/main/intermediate1/Intermediate_Prefix_sum.ipynb\" target=\"_parent\"><img src=\"https://colab.research.google.com/assets/colab-badge.svg\" alt=\"Open In Colab\"/></a>"
      ]
    },
    {
      "cell_type": "markdown",
      "source": [
        "Q : 1 The prefix sum formula for an array A of N integers is :-\n",
        "\n",
        "Ans : prefSum[i] = prefSum[i - 1] + A[i]"
      ],
      "metadata": {
        "id": "YMgL0kCpvs5P"
      }
    },
    {
      "cell_type": "markdown",
      "source": [],
      "metadata": {
        "id": "kuatnVbSv5EA"
      }
    },
    {
      "cell_type": "markdown",
      "source": [
        "Q: 2 time complexity of creating the prefix sum array of an array A of N integers.\n",
        "\n",
        "Ans : O(N)"
      ],
      "metadata": {
        "id": "6BUn6mmYv5Hc"
      }
    },
    {
      "cell_type": "markdown",
      "source": [
        "Q: 3 Range sum query\n",
        "\n",
        "You are given an integer array A of length N.\n",
        "You are also given a 2D integer array B with dimensions M x 2, where each row denotes a [L, R] query.\n",
        "For each query, you have to find the sum of all elements from L to R indices in A (0 - indexed).\n",
        "More formally, find A[L] + A[L + 1] + A[L + 2] +... + A[R - 1] + A[R] for each query."
      ],
      "metadata": {
        "id": "V_SKicufwCGP"
      }
    },
    {
      "cell_type": "code",
      "source": [
        "class Solution:\n",
        "  def rangeSum(self, A, B):\n",
        "        pf = []\n",
        "        n = len(A)\n",
        "        addition = 0\n",
        "        for i in range(n): #creating pf\n",
        "            addition += A[i]\n",
        "            pf.append(addition)\n",
        "        res = []\n",
        "        for ele in B:\n",
        "            start = ele[0]\n",
        "            end = ele[1]\n",
        "            if start == 0:\n",
        "                value = pf[end]\n",
        "            else:\n",
        "                value = pf[end] - pf[start-1]\n",
        "            res.append(value)\n",
        "        return res\n",
        "\n",
        "if __name__ == \"__main__\":\n",
        "  obj = Solution()\n",
        "  A = [1, 2, 3, 4, 5]\n",
        "  B = [[0, 3], [1, 2]]\n",
        "  res = obj.rangeSum(A,B)\n",
        "  print(res)"
      ],
      "metadata": {
        "colab": {
          "base_uri": "https://localhost:8080/"
        },
        "id": "5t53JJi-wJqT",
        "outputId": "05d51263-13f7-46ed-f400-56183332b4e7"
      },
      "execution_count": null,
      "outputs": [
        {
          "output_type": "stream",
          "name": "stdout",
          "text": [
            "[10, 5]\n"
          ]
        }
      ]
    },
    {
      "cell_type": "markdown",
      "source": [],
      "metadata": {
        "id": "nz90UoFHxHLj"
      }
    },
    {
      "cell_type": "markdown",
      "source": [
        "Q 4: In-place Prefix Sum\n",
        "Given an array A of N integers. Construct prefix sum of the array in the given array itself."
      ],
      "metadata": {
        "id": "_dT2Tlq_xCjn"
      }
    },
    {
      "cell_type": "code",
      "source": [
        "class Solution:\n",
        "    def solve(self, A):\n",
        "        n = len(A)\n",
        "        add = 0\n",
        "        pf = []\n",
        "        for i in range(n):\n",
        "            add += A[i]\n",
        "            pf.append(add)\n",
        "        return pf\n",
        "if __name__ == \"__main__\":\n",
        "  obj = Solution()\n",
        "  A = [1, 2, 3, 4, 5]\n",
        "  res = obj.solve(A)\n",
        "  print(res)"
      ],
      "metadata": {
        "colab": {
          "base_uri": "https://localhost:8080/"
        },
        "id": "Ykk5CTj5xILt",
        "outputId": "c2c14f2f-9f86-4842-8dec-9eb809c896df"
      },
      "execution_count": null,
      "outputs": [
        {
          "output_type": "stream",
          "name": "stdout",
          "text": [
            "[1, 3, 6, 10, 15]\n"
          ]
        }
      ]
    },
    {
      "cell_type": "markdown",
      "source": [
        "Q 5: Equilibrium index of an array\n",
        "You are given an array A of integers of size N.\n",
        "\n",
        "Your task is to find the equilibrium index of the given array\n",
        "\n",
        "The equilibrium index of an array is an index such that the sum of elements at lower indexes is equal to the sum of elements at higher indexes.\n",
        "\n",
        "If there are no elements that are at lower indexes or at higher indexes, then the corresponding sum of elements is considered as 0.\n",
        "\n",
        "Note:\n",
        "\n",
        "Array indexing starts from 0.\n",
        "If there is no equilibrium index then return -1.\n",
        "If there are more than one equilibrium indexes then return the minimum index.\n",
        "\n"
      ],
      "metadata": {
        "id": "FMViFhPAxmvh"
      }
    },
    {
      "cell_type": "code",
      "source": [
        "class Solution:\n",
        "      def solve(self, A):\n",
        "        n = len(A)\n",
        "        add = 0\n",
        "        pf = []\n",
        "        for i in range(n):\n",
        "            add += A[i]\n",
        "            pf.append(add)\n",
        "\n",
        "        min_index = -1\n",
        "        for i in range(n):\n",
        "            if i > 0:\n",
        "                left = pf[i-1]\n",
        "            else:\n",
        "                left = 0\n",
        "            right = pf[n-1] - pf[i]\n",
        "            if left == right:\n",
        "                min_index = i\n",
        "                break\n",
        "        return min_index\n",
        "if __name__ == \"__main__\":\n",
        "  obj = Solution()\n",
        "  A = [-7, 1, 5, 2, -4, 3, 0]\n",
        "  res = obj.solve(A)\n",
        "  print(res)"
      ],
      "metadata": {
        "colab": {
          "base_uri": "https://localhost:8080/"
        },
        "id": "NKlbvgATxxdj",
        "outputId": "1d61a9a2-d517-446c-f3c1-dc9d16474b15"
      },
      "execution_count": null,
      "outputs": [
        {
          "output_type": "stream",
          "name": "stdout",
          "text": [
            "3\n"
          ]
        }
      ]
    },
    {
      "cell_type": "markdown",
      "source": [
        "Q 6:  Even numbers in a range\n",
        "You are given an array A of length N and Q queries given by the 2D array B of size Q×2.\n",
        "\n",
        "Each query consists of two integers B[i][0] and B[i][1].\n",
        "\n",
        "For every query, your task is to find the count of even numbers in the range from A[B[i][0]] to A[B[i][1]]."
      ],
      "metadata": {
        "id": "_vuiMIekyXgu"
      }
    },
    {
      "cell_type": "code",
      "source": [
        "class Solution:\n",
        "  def solve(self, A, B):\n",
        "        n = len(A)\n",
        "        even_num = 0\n",
        "        pf = []\n",
        "        for i in range(n):\n",
        "            if A[i]% 2 == 0:\n",
        "                even_num += 1\n",
        "            pf.append(even_num)\n",
        "        res = []\n",
        "        for ele in B:\n",
        "            start = ele[0]\n",
        "            end = ele[1]\n",
        "            if start == 0:\n",
        "                value = pf[end]\n",
        "            else:\n",
        "                value = pf[end] - pf[start-1]\n",
        "            res.append(value)\n",
        "        return res\n",
        "if __name__ == \"__main__\":\n",
        "  obj = Solution()\n",
        "  A = [1, 2, 3, 4, 5]\n",
        "  B = [[0, 2],\n",
        "        [2, 4],\n",
        "        [1, 4] ]\n",
        "  res = obj.solve(A,B)\n",
        "  print(res)"
      ],
      "metadata": {
        "colab": {
          "base_uri": "https://localhost:8080/"
        },
        "id": "qP-CEl8nyapf",
        "outputId": "bec543de-2095-4157-83ae-6df19f1973a7"
      },
      "execution_count": null,
      "outputs": [
        {
          "output_type": "stream",
          "name": "stdout",
          "text": [
            "[1, 1, 2]\n"
          ]
        }
      ]
    },
    {
      "cell_type": "markdown",
      "source": [
        "Q 7: Prefix Sum\n",
        "Given the prefix sum of an array, prefSum = [-2, 4, 1, 5, 2]\n",
        "\n",
        "What is the sum of the original array from index 0 to 2 (0-based) ?\n",
        "\n",
        "ANS: 1"
      ],
      "metadata": {
        "id": "yma9Wsc4yyyq"
      }
    },
    {
      "cell_type": "markdown",
      "source": [
        "Q 8: Given the prefix sum of an array, prefSum = [-2, 4, 1, 5, 2]\n",
        "\n",
        "What is the sum of the original array from index 2 to 4 (0-based) ?\n",
        "\n",
        "Ans: -2"
      ],
      "metadata": {
        "id": "T1zrmqLekLc2"
      }
    },
    {
      "cell_type": "markdown",
      "source": [],
      "metadata": {
        "id": "FHLx0XCJkr9D"
      }
    },
    {
      "cell_type": "markdown",
      "source": [
        "Q 9: Given the prefix sum of an array, prefSum = [-2, 4, 1, 5, 2]\n",
        "\n",
        "What is the sum of the original array from index 1 to 2 (0-based) ?\n",
        "\n",
        "Ans: 3"
      ],
      "metadata": {
        "id": "oorEAwsykr_c"
      }
    },
    {
      "cell_type": "markdown",
      "source": [
        "Q 10: Product array puzzle\n",
        "\n",
        "Given an array of integers A, find and return the product array of the same size where the ith element of the product array will be equal to the product of all the elements divided by the ith element of the array.\n",
        "\n",
        "Note: It is always possible to form the product array with integer (32 bit) values. Solve it without using the division operator."
      ],
      "metadata": {
        "id": "98bjQ5WmlByU"
      }
    },
    {
      "cell_type": "code",
      "source": [
        "class Solution:\n",
        "    def solve(self, A):\n",
        "        n = len(A)\n",
        "        pf = []\n",
        "        product = 1\n",
        "        for i in A:\n",
        "            product *= i\n",
        "            pf.append(product)\n",
        "        sf = [1]*n\n",
        "        prod = 1\n",
        "        for i in range(n-1,-1,-1):\n",
        "            prod *= A[i]\n",
        "            sf[i] = prod\n",
        "\n",
        "        res = []\n",
        "        for i in range(n):\n",
        "            if i == 0:\n",
        "                res.append(sf[i+1])\n",
        "            elif i == n-1:\n",
        "                res.append(pf[i-1])\n",
        "            else:\n",
        "                res.append(pf[i-1]*sf[i+1])\n",
        "        return res\n",
        "if __name__ == \"__main__\":\n",
        "  obj = Solution()\n",
        "  A = [1, 2, 3, 4, 5]\n",
        "  res = obj.solve(A)\n",
        "  print(res)"
      ],
      "metadata": {
        "colab": {
          "base_uri": "https://localhost:8080/"
        },
        "id": "dyJeObpylFeQ",
        "outputId": "15183663-a609-4bb0-be77-88251d5e9bcb"
      },
      "execution_count": null,
      "outputs": [
        {
          "output_type": "stream",
          "name": "stdout",
          "text": [
            "[120, 60, 40, 30, 24]\n"
          ]
        }
      ]
    }
  ]
}