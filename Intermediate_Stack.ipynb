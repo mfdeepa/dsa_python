{
  "nbformat": 4,
  "nbformat_minor": 0,
  "metadata": {
    "colab": {
      "provenance": [],
      "authorship_tag": "ABX9TyOSbRjaXidzQRMKtUZhLE/1",
      "include_colab_link": true
    },
    "kernelspec": {
      "name": "python3",
      "display_name": "Python 3"
    },
    "language_info": {
      "name": "python"
    }
  },
  "cells": [
    {
      "cell_type": "markdown",
      "metadata": {
        "id": "view-in-github",
        "colab_type": "text"
      },
      "source": [
        "<a href=\"https://colab.research.google.com/github/mfdeepa/dsa_python/blob/main/Intermediate_Stack.ipynb\" target=\"_parent\"><img src=\"https://colab.research.google.com/assets/colab-badge.svg\" alt=\"Open In Colab\"/></a>"
      ]
    },
    {
      "cell_type": "markdown",
      "source": [
        "Q1 : Min Stack\n",
        "Problem Description\n",
        "\n",
        "Design a stack that supports push, pop, top, and retrieve the minimum element in constant time.\n",
        "push(x) -- Push element x onto stack.\n",
        "pop() -- Removes the element on top of the stack.\n",
        "top() -- Get the top element.\n",
        "getMin() -- Retrieve the minimum element in the stack.\n",
        "NOTE:\n",
        "All the operations have to be constant time operations.\n",
        "getMin() should return -1 if the stack is empty.\n",
        "pop() should return nothing if the stack is empty.\n",
        "top() should return -1 if the stack is empty.\n",
        "Problem Constraints\n",
        "\n",
        "1 <= Number of Function calls <= 107\n",
        "Input Format\n",
        "\n",
        "Functions will be called by the checker code automatically.\n",
        "Output Format\n",
        "\n",
        "Each function should return the values as defined by the problem statement.\n",
        "Example Input\n",
        "\n",
        "Input 1:\n",
        "push(1)\n",
        "push(2)\n",
        "push(-2)\n",
        "getMin()\n",
        "pop()\n",
        "getMin()\n",
        "top()\n",
        "Input 2:\n",
        "getMin()\n",
        "pop()\n",
        "top()\n",
        "Example Output\n",
        "\n",
        "Output 1:\n",
        " -2 1 2\n",
        "Output 2:\n",
        " -1 -1\n",
        "Example Explanation\n",
        "\n",
        "Explanation 1:\n",
        "Let the initial stack be : []\n",
        "1) push(1) : [1]\n",
        "2) push(2) : [1, 2]\n",
        "3) push(-2) : [1, 2, -2]\n",
        "4) getMin() : Returns -2 as the minimum element in the stack is -2.\n",
        "5) pop() : Return -2 as -2 is the topmost element in the stack.\n",
        "6) getMin() : Returns 1 as the minimum element in stack is 1.\n",
        "7) top() : Return 2 as 2 is the topmost element in the stack.\n",
        "Explanation 2:\n",
        "Let the initial stack be : []\n",
        "1) getMin() : Returns -1 as the stack is empty.\n",
        "2) pop() :  Returns nothing as the stack is empty.\n",
        "3) top() : Returns -1 as the stack is empty."
      ],
      "metadata": {
        "id": "IXD5hNy4wHo1"
      }
    },
    {
      "cell_type": "code",
      "source": [
        "class MinStack:\n",
        "\n",
        "    def __init__(self):\n",
        "        self.stack = []\n",
        "        self.min_stack = []\n",
        "\n",
        "    def push(self, x):\n",
        "        self.stack.append(x)\n",
        "        if self.min_stack == [] or x <= self.min_stack[-1]:\n",
        "            self.min_stack.append(x)\n",
        "\n",
        "\n",
        "\n",
        "    def pop(self):\n",
        "        if self.stack:     #it means stack is not empty\n",
        "            value = self.stack.pop()\n",
        "            if value == self.min_stack[-1]:\n",
        "                self.min_stack.pop()\n",
        "        else:\n",
        "            return\n",
        "\n",
        "\n",
        "    def top(self):\n",
        "        if self.stack:\n",
        "            return self.stack[-1]\n",
        "        else:\n",
        "            return -1\n",
        "\n",
        "    def getMin(self):\n",
        "        if self.min_stack:\n",
        "            return self.min_stack[-1]\n",
        "        else:\n",
        "            return -1\n",
        "\n",
        "if __name__ == '__main__':\n",
        "  obj = MinStack()\n",
        "  obj.push(1)\n",
        "  obj.push(2)\n",
        "  obj.push(-2)\n",
        "  print(obj.getMin())\n",
        "  obj.pop()\n",
        "  print(obj.getMin())\n",
        "  print(obj.top())"
      ],
      "metadata": {
        "colab": {
          "base_uri": "https://localhost:8080/"
        },
        "id": "Up4M2YlQ2sBh",
        "outputId": "9179a5ce-35fb-4aa6-dfa8-4af49da63fd7"
      },
      "execution_count": null,
      "outputs": [
        {
          "output_type": "stream",
          "name": "stdout",
          "text": [
            "-2\n",
            "1\n",
            "2\n"
          ]
        }
      ]
    },
    {
      "cell_type": "markdown",
      "source": [
        "Q 2: Balanced Parantheses!\n",
        "Problem Description\n",
        "Given a string A consisting only of '(' and ')'.\n",
        "\n",
        "You need to find whether parentheses in A are balanced or not, if it is balanced then return 1 else return 0.\n",
        "\n",
        "Problem Constraints\n",
        "1 <= |A| <= 105\n",
        "\n",
        "Input Format\n",
        "First argument is an string A.\n",
        "\n",
        "Output Format\n",
        "Return 1 if parantheses in string are balanced else return 0.\n",
        "\n",
        "Example Input\n",
        "Input 1:\n",
        "\n",
        " A = \"(()())\"\n",
        "\n",
        "Input 2:\n",
        "\n",
        " A = \"(()\"\n",
        "\n",
        "Example Output\n",
        "Output 1: 1\n",
        "Output 2: 0\n",
        "\n",
        "Example Explanation\n",
        "Explanation 1:\n",
        "\n",
        " Given string is balanced so we return 1.\n",
        "Explanation 2:\n",
        "\n",
        " Given string is not balanced so we return 0."
      ],
      "metadata": {
        "id": "BjlLzNln3bnA"
      }
    },
    {
      "cell_type": "code",
      "source": [
        "class New_Stack:\n",
        "    def __init__(self):\n",
        "        self.stk = []\n",
        "    def push(self,val):\n",
        "        self.stk.append(val)\n",
        "\n",
        "    def pop(self):\n",
        "        if self.stk:\n",
        "            return self.stk.pop()\n",
        "\n",
        "    def top(self):\n",
        "        if self.stk:\n",
        "            return self.stk[-1]\n",
        "\n",
        "    def isEmpty(self):\n",
        "        if len(self.stk) == 0:\n",
        "            return True\n",
        "\n",
        "    def getstack(self):\n",
        "        return self.stk\n",
        "\n",
        "class Solution:\n",
        "    def solve(self, A):\n",
        "        left = '('\n",
        "        right = ')'\n",
        "\n",
        "        stack1 = New_Stack()\n",
        "        for ele in A:\n",
        "            if ele == left:\n",
        "                stack1.push(ele)\n",
        "            elif ele == right:\n",
        "                if len(stack1.stk) == 0:\n",
        "                    return 0\n",
        "                else:\n",
        "                    stack1.pop()\n",
        "\n",
        "        if len(stack1.stk) > 0:\n",
        "            return 0\n",
        "        return 1\n",
        "if __name__ == \"__main__\":\n",
        "  obj = Solution()\n",
        "  print(obj.solve(\"(()())\"))\n",
        "  print(obj.solve(\"(()\"))\n"
      ],
      "metadata": {
        "colab": {
          "base_uri": "https://localhost:8080/"
        },
        "id": "n6NCv_HM3pr5",
        "outputId": "5ad80661-54b7-411b-ea74-7831732c49d1"
      },
      "execution_count": null,
      "outputs": [
        {
          "output_type": "stream",
          "name": "stdout",
          "text": [
            "1\n",
            "0\n"
          ]
        }
      ]
    },
    {
      "cell_type": "markdown",
      "source": [
        "Q 3: balanced parenthesis\n",
        "Problem Description\n",
        "Given an expression string A, examine whether the pairs and the orders of “{“,”}”, ”(“,”)”, ”[“,”]” are correct in A.\n",
        "\n",
        "Refer to the examples for more clarity.\n",
        "\n",
        "\n",
        "\n",
        "Problem Constraints\n",
        "1 <= |A| <= 100\n",
        "\n",
        "\n",
        "\n",
        "Input Format\n",
        "The first and the only argument of input contains the string A having the parenthesis sequence.\n",
        "\n",
        "\n",
        "\n",
        "Output Format\n",
        "Return 0 if the parenthesis sequence is not balanced.\n",
        "\n",
        "Return 1 if the parenthesis sequence is balanced.\n",
        "\n",
        "\n",
        "\n",
        "Example Input\n",
        "Input 1:\n",
        "\n",
        " A = {([])}\n",
        "Input 2:\n",
        "\n",
        " A = (){\n",
        "Input 3:\n",
        "\n",
        " A = ()[]\n",
        "\n",
        "\n",
        "Example Output\n",
        "Output 1:\n",
        "\n",
        " 1\n",
        "Output 2:\n",
        "\n",
        " 0\n",
        "Output 3:\n",
        "\n",
        " 1"
      ],
      "metadata": {
        "id": "3jIWWFvZb5wU"
      }
    },
    {
      "cell_type": "code",
      "source": [
        "#approach 1\n",
        "class Solution:\n",
        "    def solve(self, A):\n",
        "        left = set('({[')\n",
        "        stack = []\n",
        "        dic = {\n",
        "            \"]\" : \"[\",\n",
        "            \"}\" : \"{\",\n",
        "            \")\" : \"(\"\n",
        "        }\n",
        "        for ele in A:\n",
        "            if ele in left:\n",
        "                stack.append(ele)\n",
        "            else:\n",
        "                if len(stack) == 0:\n",
        "                    return 0\n",
        "                else:\n",
        "                    top = stack.pop()\n",
        "                    curr = dic[ele]\n",
        "                    if curr != top:\n",
        "                        return 0\n",
        "        if len(stack) !=0 :\n",
        "            return 0\n",
        "        return 1\n",
        "#approach 2\n",
        "class Solution:\n",
        "    def solve(self, A):\n",
        "        stack = []\n",
        "        for ch in A:\n",
        "            if ch == \"{\" or ch == \"[\" or ch == \"(\" or len(stack) == 0:\n",
        "                stack.append(ch)\n",
        "            else:\n",
        "                if ch == \"}\" and stack[-1] == \"{\":\n",
        "                    stack.pop()\n",
        "                if ch == \"]\" and stack[-1] == \"[\":\n",
        "                    stack.pop()\n",
        "                if ch == \")\" and stack[-1] == \"(\":\n",
        "                    stack.pop()\n",
        "        if len(stack):\n",
        "            return 0\n",
        "        return 1\n",
        "\n",
        "if __name__ == \"__main__\":\n",
        "  obj = Solution()\n",
        "  print(obj.solve(\"{([])}\"))\n",
        "  print(obj.solve(\"()[]\"))\n",
        "  print(obj.solve(\"())\"))"
      ],
      "metadata": {
        "colab": {
          "base_uri": "https://localhost:8080/"
        },
        "id": "VwZQlMpdcCWp",
        "outputId": "6631872f-2dd5-41d7-e7e8-5c0221b27b63"
      },
      "execution_count": null,
      "outputs": [
        {
          "output_type": "stream",
          "name": "stdout",
          "text": [
            "1\n",
            "1\n",
            "0\n"
          ]
        }
      ]
    }
  ]
}